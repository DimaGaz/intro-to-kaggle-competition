{
 "cells": [
  {
   "cell_type": "markdown",
   "id": "e4162a6a",
   "metadata": {},
   "source": [
    "#  1. Kaggle competitions process\n",
    "The data for this exercise is coming from the [Store Item Demand Forecasting Challenge](https://www.kaggle.com/competitions/demand-forecasting-kernels-only/data).\n",
    "\n",
    "## Training data exploration\n",
    "We are given 5 years of store-item sales data, and asked to predict 3 months of sales for 50 different items in 10 different stores. To begin, we will explore the train data for this competition. For the faster performance, we will work with a subset of the train data containing only ~25% of it. Our initial goal is to read the input data and take the first look at it."
   ]
  },
  {
   "cell_type": "code",
   "execution_count": 27,
   "id": "1d0d004f",
   "metadata": {},
   "outputs": [],
   "source": [
    "# Install packages https://jakevdp.github.io/blog/2017/12/05/installing-python-packages-from-jupyter/\n",
    "import sys\n",
    "# !conda install --yes --prefix {sys.prefix} pandas\n",
    "# !conda install --yes --prefix {sys.prefix} mkl-service\n",
    "# !conda install --yes --prefix {sys.prefix} numpy\n",
    "# !conda install --yes --prefix {sys.prefix} matplotlib\n",
    "# !conda install --yes --prefix {sys.prefix} scikit-learn\n",
    "# !conda install --yes --prefix {sys.prefix} xgboost"
   ]
  },
  {
   "cell_type": "code",
   "execution_count": 39,
   "id": "70017f71",
   "metadata": {},
   "outputs": [],
   "source": [
    "# Import packages\n",
    "import numpy as np\n",
    "import pandas as pd \n",
    "import matplotlib.pyplot as plt\n",
    "from sklearn.ensemble import RandomForestRegressor\n",
    "from sklearn.metrics import mean_squared_error\n",
    "import xgboost as xgb"
   ]
  },
  {
   "cell_type": "code",
   "execution_count": 15,
   "id": "bd617d3a",
   "metadata": {},
   "outputs": [
    {
     "name": "stdout",
     "output_type": "stream",
     "text": [
      "Train shape: (228250, 4)\n",
      "              date  store  item  sales\n",
      "684750  2013-01-01      6    38     31\n",
      "684751  2013-01-02      6    38     20\n",
      "684752  2013-01-03      6    38     37\n",
      "684753  2013-01-04      6    38     41\n",
      "684754  2013-01-05      6    38     50\n"
     ]
    }
   ],
   "source": [
    "# Read train data\n",
    "dir = 'data/store_item_demand_forecasting_challenge/'\n",
    "train = pd.read_csv(dir + 'train.csv')\n",
    "\n",
    "# Look at the shape of the data\n",
    "train = train[int(0.75*train.shape[0]):] # take the latest 25% of the data\n",
    "print('Train shape:', train.shape)\n",
    "\n",
    "# Look at the head() of the data\n",
    "print(train.head())"
   ]
  },
  {
   "cell_type": "markdown",
   "id": "0a367d72",
   "metadata": {},
   "source": [
    "Having looked at the train data, let's explore the test data in the \"Store Item Demand Forecasting Challenge\". Remember, that the test dataset generally contains one column less than the train one."
   ]
  },
  {
   "cell_type": "code",
   "execution_count": 13,
   "id": "c82eec82",
   "metadata": {},
   "outputs": [
    {
     "name": "stdout",
     "output_type": "stream",
     "text": [
      "Train columns: ['date', 'store', 'item', 'sales']\n",
      "Test columns: ['id', 'date', 'store', 'item']\n"
     ]
    }
   ],
   "source": [
    "# Read the test data\n",
    "test = pd.read_csv(dir + 'test.csv')\n",
    "\n",
    "# Print train and test columns\n",
    "print('Train columns:', train.columns.tolist())\n",
    "print('Test columns:', test.columns.tolist())"
   ]
  },
  {
   "cell_type": "markdown",
   "id": "b60aa361",
   "metadata": {},
   "source": [
    "Let's have a look at the submission file to get the output format for the Kaggle competition."
   ]
  },
  {
   "cell_type": "code",
   "execution_count": 16,
   "id": "b6541db7",
   "metadata": {},
   "outputs": [
    {
     "name": "stdout",
     "output_type": "stream",
     "text": [
      "   id  sales\n",
      "0   0     52\n",
      "1   1     52\n",
      "2   2     52\n",
      "3   3     52\n",
      "4   4     52\n"
     ]
    }
   ],
   "source": [
    "# Read the sample submission file\n",
    "sample_submission = pd.read_csv(dir + 'sample_submission.csv')\n",
    "\n",
    "# Look at the head() of the sample submission\n",
    "print(sample_submission.head())"
   ]
  },
  {
   "cell_type": "markdown",
   "id": "d5510d2f",
   "metadata": {},
   "source": [
    "The sample submission file consists of two columns: `id` of the observation and `sales` column for your predictions. Kaggle will evaluate your predictions on the true `sales` data for the corresponding `id`. So, it’s important to keep track of the predictions by `id` before submitting them.\n",
    "\n",
    "To determine a problem type let's explore the target variable `sales` in the the train dataset."
   ]
  },
  {
   "cell_type": "code",
   "execution_count": 23,
   "id": "a444a770",
   "metadata": {},
   "outputs": [
    {
     "data": {
      "text/plain": [
       "<AxesSubplot:>"
      ]
     },
     "execution_count": 23,
     "metadata": {},
     "output_type": "execute_result"
    },
    {
     "data": {
      "image/png": "[encoded data removed]",
      "text/plain": [
       "<Figure size 432x288 with 1 Axes>"
      ]
     },
     "metadata": {
      "needs_background": "light"
     },
     "output_type": "display_data"
    }
   ],
   "source": [
    "train.sales.hist(bins=30, alpha=0.5)"
   ]
  },
  {
   "cell_type": "markdown",
   "id": "8d994eff",
   "metadata": {},
   "source": [
    "## Prepare a submission\n",
    "The `sales` variable is continuous, so we're solving a regression problem. Now we're ready to build a model for a subsequent submission. For this exercise we will use `RandomForestRegressor` class from the `scikit-learn` library."
   ]
  },
  {
   "cell_type": "code",
   "execution_count": 25,
   "id": "4d8f8d54",
   "metadata": {},
   "outputs": [],
   "source": [
    "# Create a Random Forest object\n",
    "rf = RandomForestRegressor()\n",
    "\n",
    "# Train a model on the \"store\" and \"item\" features with \"sales\" as a target.\n",
    "rf.fit(X=train[['store', 'item']], y=train['sales'])\n",
    "\n",
    "# Get predictions for the test set\n",
    "test['sales'] = rf.predict(test[['store', 'item']])\n",
    "\n",
    "# Write test predictions using the sample_submission format (Note that sample submission has id and sales columns).\n",
    "test[['id', 'sales']].to_csv('kaggle_submission.csv', index=False)"
   ]
  },
  {
   "cell_type": "markdown",
   "id": "9ba43c8c",
   "metadata": {},
   "source": [
    "We've prepared our first Kaggle submission. Now, we could upload it to the Kaggle platform and see our score and current position on the Leaderboard. \n",
    "\n",
    "## Overfitting\n",
    "Every Machine Learning method could potentially overfit. We will see it on this example with XGBoost. Firstly, let's train multiple XGBoost models with different sets of hyperparameters using XGBoost's learning API. The single hyperparameter we will change is:\n",
    "- `max_depth` - maximum depth of a tree. Increasing this value will make the model more complex and more likely to overfit."
   ]
  },
  {
   "cell_type": "code",
   "execution_count": 38,
   "id": "0ffe4d5f",
   "metadata": {},
   "outputs": [
    {
     "name": "stderr",
     "output_type": "stream",
     "text": [
      "C:\\Users\\DmitriGazizulin\\anaconda3\\envs\\intro-to-kaggle-competition\\lib\\site-packages\\xgboost\\data.py:250: FutureWarning: pandas.Int64Index is deprecated and will be removed from pandas in a future version. Use pandas.Index with the appropriate dtype instead.\n",
      "  elif isinstance(data.columns, (pd.Int64Index, pd.RangeIndex)):\n"
     ]
    }
   ],
   "source": [
    "# Create DMatrix on train data\n",
    "dtrain = xgb.DMatrix(data=train[['store', 'item']],\n",
    "                     label=train['sales'])\n",
    "\n",
    "# Define xgboost parameters\n",
    "params = {'objective': 'reg:squarederror',\n",
    "          'max_depth': 2,\n",
    "          'verbosity': 1}\n",
    "\n",
    "# Train xgboost model\n",
    "xg_depth_2 = xgb.train(params=params, dtrain=dtrain)\n",
    "\n",
    "\n",
    "# Define xgboost parameters\n",
    "params = {'objective': 'reg:squarederror',\n",
    "          'max_depth': 8,\n",
    "          'verbosity': 1}\n",
    "\n",
    "# Train xgboost model\n",
    "xg_depth_8 = xgb.train(params=params, dtrain=dtrain)\n",
    "\n",
    "# Define xgboost parameters\n",
    "params = {'objective': 'reg:squarederror',\n",
    "          'max_depth': 15,\n",
    "          'verbosity': 1}\n",
    "\n",
    "# Train xgboost model\n",
    "xg_depth_15 = xgb.train(params=params, dtrain=dtrain)"
   ]
  },
  {
   "cell_type": "markdown",
   "id": "cb2fc100",
   "metadata": {},
   "source": [
    "Having trained 3 XGBoost models with different maximum depths, we will now evaluate their quality. For this purpose, we will measure the quality of each model on both the train data and the test data (assuming that the predictions from the Random Forest were correct). \n",
    "\n",
    "The goal of this exercise is to determine whether any of the models trained is overfitting. To measure the quality of the models we will use Mean Squared Error (MSE). It's available in sklearn.metrics as mean_squared_error() function that takes two arguments: true values and predicted values."
   ]
  },
  {
   "cell_type": "code",
   "execution_count": 40,
   "id": "74bab343",
   "metadata": {},
   "outputs": [
    {
     "name": "stderr",
     "output_type": "stream",
     "text": [
      "C:\\Users\\DmitriGazizulin\\anaconda3\\envs\\intro-to-kaggle-competition\\lib\\site-packages\\xgboost\\data.py:250: FutureWarning: pandas.Int64Index is deprecated and will be removed from pandas in a future version. Use pandas.Index with the appropriate dtype instead.\n",
      "  elif isinstance(data.columns, (pd.Int64Index, pd.RangeIndex)):\n"
     ]
    },
    {
     "name": "stdout",
     "output_type": "stream",
     "text": [
      "MSE Train: 328.703. MSE Test: 93.959\n",
      "MSE Train: 194.991. MSE Test: 7.306\n",
      "MSE Train: 194.580. MSE Test: 3.409\n"
     ]
    }
   ],
   "source": [
    "# Create DMatrix on test data\n",
    "dtest = xgb.DMatrix(data=test[['store', 'item']])\n",
    "\n",
    "# For each of 3 trained models\n",
    "for model in [xg_depth_2, xg_depth_8, xg_depth_15]:\n",
    "    # make predictions\n",
    "    train_pred = model.predict(dtrain)\n",
    "    test_pred = model.predict(dtest)\n",
    "    \n",
    "    # calculate metrics\n",
    "    mse_train = mean_squared_error(train['sales'], train_pred)\n",
    "    mse_test = mean_squared_error(test['sales'], test_pred)\n",
    "    print('MSE Train: {:.3f}. MSE Test: {:.3f}'.format(mse_train, mse_test))"
   ]
  },
  {
   "cell_type": "markdown",
   "id": "55756c94",
   "metadata": {},
   "source": [
    "In these case we don't see an overfit since we don't have the real labels of the test set. However, this exercice was a good practice to conduct an overfit analysis."
   ]
  }
 ],
 "metadata": {
  "kernelspec": {
   "display_name": "intro-to-kaggle-copetition",
   "language": "python",
   "name": "intro-to-kaggle-copetition"
  },
  "language_info": {
   "codemirror_mode": {
    "name": "ipython",
    "version": 3
   },
   "file_extension": ".py",
   "mimetype": "text/x-python",
   "name": "python",
   "nbconvert_exporter": "python",
   "pygments_lexer": "ipython3",
   "version": "3.8.13"
  }
 },
 "nbformat": 4,
 "nbformat_minor": 5
}
