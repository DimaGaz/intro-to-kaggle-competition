{
 "cells": [
  {
   "cell_type": "markdown",
   "id": "e4162a6a",
   "metadata": {},
   "source": [
    "# Winning a Kaggle Competition in Python\n",
    "\n",
    "[_\"Kaggle is the most famous platform for Data Science competitions. Taking part in such competitions allows you to work with real-world datasets, explore various machine learning problems, compete with other participants and, finally, get invaluable hands-on experience. In this course, you will learn how to approach and structure any Data Science competition. You will be able to select the correct local validation scheme and to avoid overfitting. Moreover, you will master advanced feature engineering together with model ensembling approaches. All these techniques will be practiced on Kaggle competitions datasets\"._](https://app.datacamp.com/learn/courses/winning-a-kaggle-competition-in-python)\n",
    "\n",
    "\n",
    "##  1. Kaggle competitions process\n",
    "In this first chapter, we will get exposure to the Kaggle competition process. We will train a model and prepare a csv file ready for submission. Moreover, we will learn the difference between Public and Private test splits, and how to prevent overfitting.\n",
    "\n",
    "For this chaapter we will use data coming from the [Store Item Demand Forecasting Challenge](https://www.kaggle.com/competitions/demand-forecasting-kernels-only/data).\n",
    "\n",
    "### Training data exploration\n",
    "We are given 5 years of store-item sales data, and asked to predict 3 months of sales for 50 different items in 10 different stores. To begin, we will explore the train data for this competition. For the faster performance, we will work with a subset of the train data containing only ~25% of it. Furthermore, we will split it into train and test. Our initial goal is to read the input data and take the first look at it."
   ]
  },
  {
   "cell_type": "code",
   "execution_count": 1,
   "id": "1d0d004f",
   "metadata": {},
   "outputs": [],
   "source": [
    "# Install packages https://jakevdp.github.io/blog/2017/12/05/installing-python-packages-from-jupyter/\n",
    "import sys\n",
    "# !conda install --yes --prefix {sys.prefix} pandas\n",
    "# !conda install --yes --prefix {sys.prefix} mkl-service\n",
    "# !conda install --yes --prefix {sys.prefix} numpy\n",
    "# !conda install --yes --prefix {sys.prefix} matplotlib\n",
    "# !conda install --yes --prefix {sys.prefix} scikit-learn\n",
    "# !conda install --yes --prefix {sys.prefix} xgboost"
   ]
  },
  {
   "cell_type": "code",
   "execution_count": 54,
   "id": "70017f71",
   "metadata": {},
   "outputs": [],
   "source": [
    "# Import packages\n",
    "import numpy as np\n",
    "import pandas as pd \n",
    "import matplotlib.pyplot as plt\n",
    "from sklearn.ensemble import RandomForestRegressor, GradientBoostingRegressor\n",
    "from sklearn.metrics import mean_squared_error, log_loss\n",
    "from sklearn.model_selection import train_test_split, KFold, StratifiedKFold, TimeSeriesSplit\n",
    "from sklearn.linear_model import LinearRegression\n",
    "from sklearn.preprocessing import LabelEncoder\n",
    "from sklearn.impute import SimpleImputer # Import SimpleImputer\n",
    "import xgboost as xgb\n",
    "from math import sin, cos, sqrt, atan2, radians\n",
    "import itertools\n",
    "from datetime import datetime"
   ]
  },
  {
   "cell_type": "code",
   "execution_count": 3,
   "id": "bd617d3a",
   "metadata": {},
   "outputs": [
    {
     "name": "stdout",
     "output_type": "stream",
     "text": [
      "Train shape: (228250, 4)\n",
      "              date  store  item  sales\n",
      "684750  2013-01-01      6    38     31\n",
      "684751  2013-01-02      6    38     20\n",
      "684752  2013-01-03      6    38     37\n",
      "684753  2013-01-04      6    38     41\n",
      "684754  2013-01-05      6    38     50\n"
     ]
    }
   ],
   "source": [
    "# Read train data\n",
    "store_item_dir = 'data/store_item_demand_forecasting_challenge/'\n",
    "store_item_train = pd.read_csv(store_item_dir + 'train.csv')\n",
    "\n",
    "# Look at the shape of the data\n",
    "store_item_train = store_item_train[int(0.75*store_item_train.shape[0]):] # take the latest 25% of the data\n",
    "\n",
    "print('Train shape:', store_item_train.shape)\n",
    "\n",
    "# Look at the head() of the data\n",
    "print(store_item_train.head())"
   ]
  },
  {
   "cell_type": "markdown",
   "id": "0a367d72",
   "metadata": {},
   "source": [
    "Having looked at the train data, let's explore the test data in the \"Store Item Demand Forecasting Challenge\". Remember, that the test dataset generally contains one column less than the train one."
   ]
  },
  {
   "cell_type": "code",
   "execution_count": 4,
   "id": "c82eec82",
   "metadata": {},
   "outputs": [
    {
     "name": "stdout",
     "output_type": "stream",
     "text": [
      "Train columns: ['date', 'store', 'item', 'sales']\n",
      "Test columns: ['id', 'date', 'store', 'item']\n"
     ]
    }
   ],
   "source": [
    "# Read the test data\n",
    "store_item_test = pd.read_csv(store_item_dir + 'test.csv')\n",
    "\n",
    "# Print train and test columns\n",
    "print('Train columns:', store_item_train.columns.tolist())\n",
    "print('Test columns:', store_item_test.columns.tolist())"
   ]
  },
  {
   "cell_type": "markdown",
   "id": "b60aa361",
   "metadata": {},
   "source": [
    "Let's have a look at the submission file to get the output format for the Kaggle competition."
   ]
  },
  {
   "cell_type": "code",
   "execution_count": 5,
   "id": "b6541db7",
   "metadata": {},
   "outputs": [
    {
     "name": "stdout",
     "output_type": "stream",
     "text": [
      "   id  sales\n",
      "0   0     52\n",
      "1   1     52\n",
      "2   2     52\n",
      "3   3     52\n",
      "4   4     52\n"
     ]
    }
   ],
   "source": [
    "# Read the sample submission file\n",
    "sample_submission = pd.read_csv(store_item_dir + 'sample_submission.csv')\n",
    "\n",
    "# Look at the head() of the sample submission\n",
    "print(sample_submission.head())"
   ]
  },
  {
   "cell_type": "markdown",
   "id": "d5510d2f",
   "metadata": {},
   "source": [
    "The sample submission file consists of two columns: `id` of the observation and `sales` column for our predictions. Kaggle will evaluate our predictions on the true `sales` data for the corresponding `id`. So, it’s important to keep track of the predictions by `id` before submitting them.\n",
    "\n",
    "To determine a problem type let's explore the target variable `sales` in the the train dataset."
   ]
  },
  {
   "cell_type": "code",
   "execution_count": 6,
   "id": "a444a770",
   "metadata": {},
   "outputs": [
    {
     "data": {
      "text/plain": [
       "<AxesSubplot:>"
      ]
     },
     "execution_count": 6,
     "metadata": {},
     "output_type": "execute_result"
    },
    {
     "data": {
      "image/png": "[encoded data removed]",
      "text/plain": [
       "<Figure size 432x288 with 1 Axes>"
      ]
     },
     "metadata": {
      "needs_background": "light"
     },
     "output_type": "display_data"
    }
   ],
   "source": [
    "store_item_train.sales.hist(bins=30, alpha=0.5)"
   ]
  },
  {
   "cell_type": "markdown",
   "id": "8d994eff",
   "metadata": {},
   "source": [
    "## Prepare a submission\n",
    "The `sales` variable is continuous, so we're solving a regression problem. Now we're ready to build a model for a subsequent submission. For this exercise we will use `RandomForestRegressor` class from the `scikit-learn` library."
   ]
  },
  {
   "cell_type": "code",
   "execution_count": 7,
   "id": "4d8f8d54",
   "metadata": {},
   "outputs": [],
   "source": [
    "# Create a Random Forest object\n",
    "rf = RandomForestRegressor()\n",
    "\n",
    "# Train a model on the \"store\" and \"item\" features with \"sales\" as a target.\n",
    "rf.fit(X=store_item_train[['store', 'item']], y=store_item_train['sales'])\n",
    "\n",
    "# Get predictions for the test set\n",
    "store_item_test['sales'] = rf.predict(store_item_test[['store', 'item']])\n",
    "\n",
    "# Write test predictions using the sample_submission format (Note that sample submission has id and sales columns).\n",
    "store_item_test[['id', 'sales']].to_csv('kaggle_submission.csv', index=False)"
   ]
  },
  {
   "cell_type": "markdown",
   "id": "9ba43c8c",
   "metadata": {},
   "source": [
    "We've prepared our first Kaggle submission. Now, we could upload it to the Kaggle platform and see our score and current position on the Leaderboard. \n",
    "\n",
    "## Overfitting\n",
    "Every Machine Learning method could potentially overfit. We will see it on this example with XGBoost. Firstly, let's train multiple XGBoost models with different sets of hyperparameters using XGBoost's learning API. The single hyperparameter we will change is:\n",
    "- `max_depth` - maximum depth of a tree. Increasing this value will make the model more complex and more likely to overfit.\n",
    "\n",
    "Since we don't have labels of the original `test` set, we will use the original `train` set for both, model training and evaluation. "
   ]
  },
  {
   "cell_type": "code",
   "execution_count": 66,
   "id": "0ffe4d5f",
   "metadata": {},
   "outputs": [
    {
     "name": "stderr",
     "output_type": "stream",
     "text": [
      "C:\\Users\\DmitriGazizulin\\anaconda3\\envs\\intro-to-kaggle-competition\\lib\\site-packages\\xgboost\\data.py:250: FutureWarning: pandas.Int64Index is deprecated and will be removed from pandas in a future version. Use pandas.Index with the appropriate dtype instead.\n",
      "  elif isinstance(data.columns, (pd.Int64Index, pd.RangeIndex)):\n"
     ]
    }
   ],
   "source": [
    "X_train, X_test, y_train, y_test = train_test_split(store_item_train[['store', 'item']], \n",
    "                                                    store_item_train['sales'], \n",
    "                                                    test_size=0.3, \n",
    "                                                    random_state=42)\n",
    "\n",
    "# Create DMatrix on train data\n",
    "dtrain = xgb.DMatrix(data = X_train,\n",
    "                     label = y_train)\n",
    "\n",
    "# Define xgboost parameters\n",
    "params = {'objective': 'reg:squarederror',\n",
    "          'max_depth': 2,\n",
    "          'verbosity': 1}\n",
    "\n",
    "# Train xgboost model\n",
    "xg_depth_2 = xgb.train(params=params, dtrain=dtrain)\n",
    "\n",
    "\n",
    "# Define xgboost parameters\n",
    "params = {'objective': 'reg:squarederror',\n",
    "          'max_depth': 8,\n",
    "          'verbosity': 1}\n",
    "\n",
    "# Train xgboost model\n",
    "xg_depth_8 = xgb.train(params=params, dtrain=dtrain)\n",
    "\n",
    "# Define xgboost parameters\n",
    "params = {'objective': 'reg:squarederror',\n",
    "          'max_depth': 15,\n",
    "          'verbosity': 1}\n",
    "\n",
    "# Train xgboost model\n",
    "xg_depth_15 = xgb.train(params=params, dtrain=dtrain)"
   ]
  },
  {
   "cell_type": "markdown",
   "id": "cb2fc100",
   "metadata": {},
   "source": [
    "Having trained 3 XGBoost models with different maximum depths, we will now evaluate their quality. For this purpose, we will measure the quality of each model on both the train data and the test data. \n",
    "\n",
    "The goal of this exercise is to determine whether any of the models trained is overfitting. To measure the quality of the models we will use Mean Squared Error (MSE). It's available in `sklearn` metrics as `mean_squared_error()` function that takes two arguments: true values and predicted values."
   ]
  },
  {
   "cell_type": "code",
   "execution_count": 67,
   "id": "74bab343",
   "metadata": {},
   "outputs": [
    {
     "name": "stdout",
     "output_type": "stream",
     "text": [
      "MSE Train: 329.748. MSE Test: 325.246\n",
      "MSE Train: 195.908. MSE Test: 192.947\n",
      "MSE Train: 195.534. MSE Test: 192.541\n"
     ]
    }
   ],
   "source": [
    "# Create DMatrix on test data\n",
    "dtest = xgb.DMatrix(data = X_test)\n",
    "\n",
    "# For each of 3 trained models\n",
    "for model in [xg_depth_2, xg_depth_8, xg_depth_15]:\n",
    "    # make predictions\n",
    "    train_pred = model.predict(dtrain)\n",
    "    test_pred = model.predict(dtest)\n",
    "    \n",
    "    # calculate metrics\n",
    "    mse_train = mean_squared_error(y_train, train_pred)\n",
    "    mse_test = mean_squared_error(y_test, test_pred)\n",
    "    print('MSE Train: {:.3f}. MSE Test: {:.3f}'.format(mse_train, mse_test))"
   ]
  },
  {
   "cell_type": "markdown",
   "id": "55756c94",
   "metadata": {},
   "source": [
    "In these case we don't see an overfit since we don't have the real labels of the test set. However, this exercice was a good practice to conduct an overfit analysis.\n",
    "\n",
    "# 2. Dive into the Competition\n",
    "\n",
    "In the previous section we have practiced some basics of Kaggle competitions. In the correct section, we will learn how to study the specific problem at hand. We will practice EDA and get to establish correct local validation strategies. Moreover, we will also learn about data leakage. \n",
    "\n",
    "The data for this exercise is coming from the:\n",
    "- [Two Sigma Connect: Rental Listing Inquiries](https://www.kaggle.com/competitions/two-sigma-connect-rental-listing-inquiries/overview). The problem definition is: _\"Finding the perfect place to call your new home should be more than browsing through endless listings. RentHop makes apartment search smarter by using data to sort rental listings by quality. But while looking for the perfect apartment is difficult enough, structuring and making sense of all available real estate data programmatically is even harder. Two Sigma and RentHop, a portfolio company of Two Sigma Ventures, invite Kagglers to unleash their creative engines to uncover business value in this unique recruiting competition.\"_\n",
    "\n",
    "- [New York City Taxi Fare Prediction](https://www.kaggle.com/competitions/new-york-city-taxi-fare-prediction/overview). The problem definition is: _\"... you are tasked with predicting the fare amount (inclusive of tolls) for a taxi ride in New York City given the pickup and dropoff locations. While you can get a basic estimate based on just the distance between the two points, this will result in an RMSE of \\\\$5 - \\\\$10, depending on the model used. Your challenge is to do better than this using Machine Learning techniques!\"_\n",
    "\n",
    "## Define a competition metric\n",
    "In this sub-section our goal is to manually develop a couple of competition metrics in case if they are not available in `sklearn.metrics`. In particular, we will define:\n",
    "- Mean Squared Error (MSE) for the regression problem:\n",
    "$$MSE = \\frac{1}{N} \\displaystyle\\sum_{i=1}^{N} (y_i - \\hat{y}_i)^2 $$\n",
    "\n",
    "- Logarithmic Loss (LogLoss) for the binary classification problem:\n",
    "$$LogLoss = -\\frac{1}{N} \\displaystyle\\sum_{i=1}^{N} (y_i \\ln p_i + (1-y_i) \\ln (1-p_i)) $$"
   ]
  },
  {
   "cell_type": "code",
   "execution_count": 10,
   "id": "f37803c2",
   "metadata": {},
   "outputs": [],
   "source": [
    "# Define our own MSE function\n",
    "def own_mse(y_true, y_pred):\n",
    "    # Raise differences to the power of 2\n",
    "    squares = np.power(y_true - y_pred, 2)\n",
    "    # Find mean over all observations\n",
    "    err = np.mean(squares)\n",
    "    return err\n",
    "\n",
    "# Define our own LogLoss function\n",
    "def own_logloss(y_true, prob_pred):\n",
    "    # Find loss for each observation\n",
    "    terms = y_true * np.log(prob_pred) + (1 - y_true) * np.log(1 - prob_pred)\n",
    "    # Find mean over all observations\n",
    "    err = np.mean(terms) \n",
    "    return -err"
   ]
  },
  {
   "cell_type": "markdown",
   "id": "0582bcaa",
   "metadata": {},
   "source": [
    "## EDA statistics\n",
    "We will work with New York City taxi fare prediction data. We will start with finding some basic statistics about the data. Then we will move forward to plot some dependencies and generate hypotheses on them."
   ]
  },
  {
   "cell_type": "code",
   "execution_count": 11,
   "id": "7f6550c6",
   "metadata": {},
   "outputs": [],
   "source": [
    "# Read train and test data\n",
    "ny_taxi_dir = 'data/new_york_city_taxi_fare_prediction/'\n",
    "ny_taxi_train = pd.read_csv(ny_taxi_dir + 'train_short.csv') # the original file consists of more than 55 million rows (~5 GB)\n",
    "ny_taxi_test = pd.read_csv(ny_taxi_dir + 'test.csv')"
   ]
  },
  {
   "cell_type": "code",
   "execution_count": 12,
   "id": "d830a805",
   "metadata": {},
   "outputs": [
    {
     "name": "stdout",
     "output_type": "stream",
     "text": [
      "Train shape: (200001, 8)\n",
      "Test shape: (9914, 7)\n"
     ]
    },
    {
     "data": {
      "text/html": [
       "<div>\n",
       "<style scoped>\n",
       "    .dataframe tbody tr th:only-of-type {\n",
       "        vertical-align: middle;\n",
       "    }\n",
       "\n",
       "    .dataframe tbody tr th {\n",
       "        vertical-align: top;\n",
       "    }\n",
       "\n",
       "    .dataframe thead th {\n",
       "        text-align: right;\n",
       "    }\n",
       "</style>\n",
       "<table border=\"1\" class=\"dataframe\">\n",
       "  <thead>\n",
       "    <tr style=\"text-align: right;\">\n",
       "      <th></th>\n",
       "      <th>key</th>\n",
       "      <th>fare_amount</th>\n",
       "      <th>pickup_datetime</th>\n",
       "      <th>pickup_longitude</th>\n",
       "      <th>pickup_latitude</th>\n",
       "      <th>dropoff_longitude</th>\n",
       "      <th>dropoff_latitude</th>\n",
       "      <th>passenger_count</th>\n",
       "    </tr>\n",
       "  </thead>\n",
       "  <tbody>\n",
       "    <tr>\n",
       "      <th>0</th>\n",
       "      <td>2009-06-15 17:26:21.0000001</td>\n",
       "      <td>4.5</td>\n",
       "      <td>2009-06-15 17:26:21 UTC</td>\n",
       "      <td>-73.844311</td>\n",
       "      <td>40.721319</td>\n",
       "      <td>-73.841610</td>\n",
       "      <td>40.712278</td>\n",
       "      <td>1</td>\n",
       "    </tr>\n",
       "    <tr>\n",
       "      <th>1</th>\n",
       "      <td>2010-01-05 16:52:16.0000002</td>\n",
       "      <td>16.9</td>\n",
       "      <td>2010-01-05 16:52:16 UTC</td>\n",
       "      <td>-74.016048</td>\n",
       "      <td>40.711303</td>\n",
       "      <td>-73.979268</td>\n",
       "      <td>40.782004</td>\n",
       "      <td>1</td>\n",
       "    </tr>\n",
       "    <tr>\n",
       "      <th>2</th>\n",
       "      <td>2011-08-18 00:35:00.00000049</td>\n",
       "      <td>5.7</td>\n",
       "      <td>2011-08-18 00:35:00 UTC</td>\n",
       "      <td>-73.982738</td>\n",
       "      <td>40.761270</td>\n",
       "      <td>-73.991242</td>\n",
       "      <td>40.750562</td>\n",
       "      <td>2</td>\n",
       "    </tr>\n",
       "    <tr>\n",
       "      <th>3</th>\n",
       "      <td>2012-04-21 04:30:42.0000001</td>\n",
       "      <td>7.7</td>\n",
       "      <td>2012-04-21 04:30:42 UTC</td>\n",
       "      <td>-73.987130</td>\n",
       "      <td>40.733143</td>\n",
       "      <td>-73.991567</td>\n",
       "      <td>40.758092</td>\n",
       "      <td>1</td>\n",
       "    </tr>\n",
       "    <tr>\n",
       "      <th>4</th>\n",
       "      <td>2010-03-09 07:51:00.000000135</td>\n",
       "      <td>5.3</td>\n",
       "      <td>2010-03-09 07:51:00 UTC</td>\n",
       "      <td>-73.968095</td>\n",
       "      <td>40.768008</td>\n",
       "      <td>-73.956655</td>\n",
       "      <td>40.783762</td>\n",
       "      <td>1</td>\n",
       "    </tr>\n",
       "  </tbody>\n",
       "</table>\n",
       "</div>"
      ],
      "text/plain": [
       "                             key  fare_amount          pickup_datetime  \\\n",
       "0    2009-06-15 17:26:21.0000001          4.5  2009-06-15 17:26:21 UTC   \n",
       "1    2010-01-05 16:52:16.0000002         16.9  2010-01-05 16:52:16 UTC   \n",
       "2   2011-08-18 00:35:00.00000049          5.7  2011-08-18 00:35:00 UTC   \n",
       "3    2012-04-21 04:30:42.0000001          7.7  2012-04-21 04:30:42 UTC   \n",
       "4  2010-03-09 07:51:00.000000135          5.3  2010-03-09 07:51:00 UTC   \n",
       "\n",
       "   pickup_longitude  pickup_latitude  dropoff_longitude  dropoff_latitude  \\\n",
       "0        -73.844311        40.721319         -73.841610         40.712278   \n",
       "1        -74.016048        40.711303         -73.979268         40.782004   \n",
       "2        -73.982738        40.761270         -73.991242         40.750562   \n",
       "3        -73.987130        40.733143         -73.991567         40.758092   \n",
       "4        -73.968095        40.768008         -73.956655         40.783762   \n",
       "\n",
       "   passenger_count  \n",
       "0                1  \n",
       "1                1  \n",
       "2                2  \n",
       "3                1  \n",
       "4                1  "
      ]
     },
     "metadata": {},
     "output_type": "display_data"
    }
   ],
   "source": [
    "# Shapes of train and test data\n",
    "print('Train shape:', ny_taxi_train.shape)\n",
    "print('Test shape:', ny_taxi_test.shape)\n",
    "\n",
    "# Train head()\n",
    "display(ny_taxi_train.head())"
   ]
  },
  {
   "cell_type": "code",
   "execution_count": 13,
   "id": "1d5efda2",
   "metadata": {},
   "outputs": [
    {
     "name": "stdout",
     "output_type": "stream",
     "text": [
      "<class 'pandas.core.frame.DataFrame'>\n",
      "RangeIndex: 200001 entries, 0 to 200000\n",
      "Data columns (total 8 columns):\n",
      " #   Column             Non-Null Count   Dtype  \n",
      "---  ------             --------------   -----  \n",
      " 0   key                200001 non-null  object \n",
      " 1   fare_amount        200001 non-null  float64\n",
      " 2   pickup_datetime    200001 non-null  object \n",
      " 3   pickup_longitude   200001 non-null  float64\n",
      " 4   pickup_latitude    200001 non-null  float64\n",
      " 5   dropoff_longitude  200000 non-null  float64\n",
      " 6   dropoff_latitude   200000 non-null  float64\n",
      " 7   passenger_count    200001 non-null  int64  \n",
      "dtypes: float64(5), int64(1), object(2)\n",
      "memory usage: 12.2+ MB\n"
     ]
    }
   ],
   "source": [
    "ny_taxi_train.info()"
   ]
  },
  {
   "cell_type": "code",
   "execution_count": 71,
   "id": "b5f618bb",
   "metadata": {},
   "outputs": [
    {
     "name": "stdout",
     "output_type": "stream",
     "text": [
      "count    200000.000000\n",
      "mean         11.342869\n",
      "std           9.837854\n",
      "min         -44.900000\n",
      "25%           6.000000\n",
      "50%           8.500000\n",
      "75%          12.500000\n",
      "max         500.000000\n",
      "Name: fare_amount, dtype: float64\n",
      "1    138538\n",
      "2     29463\n",
      "5     14197\n",
      "3      8681\n",
      "4      4225\n",
      "6      4183\n",
      "0       713\n",
      "Name: passenger_count, dtype: int64\n"
     ]
    }
   ],
   "source": [
    "# Describe the target variable\n",
    "print(ny_taxi_train.fare_amount.describe())\n",
    "\n",
    "# Distribution of passengers within rides\n",
    "print(ny_taxi_train.passenger_count.value_counts())"
   ]
  },
  {
   "cell_type": "markdown",
   "id": "faa60cb4",
   "metadata": {},
   "source": [
    "## EDA plots\n",
    "After generating a couple of basic statistics, it's time to come up with and validate some ideas about the data dependencies. To begin with, let's make a scatterplot plotting the relationship between the fare amount and the distance of the ride. Intuitively, the longer the ride, the higher its price."
   ]
  },
  {
   "cell_type": "code",
   "execution_count": 15,
   "id": "9b10575a",
   "metadata": {},
   "outputs": [],
   "source": [
    "def dist_km(df):\n",
    "    \"\"\"\n",
    "    This function takes the longitude and latitude coordinates\n",
    "    of the origin and destination, and returns the distance in km between the two.\n",
    "    Originally taken from: \n",
    "    https://stackoverflow.com/questions/19412462/getting-distance-between-two-points-based-on-latitude-longitude\n",
    "\n",
    "    Parameters\n",
    "    ----------\n",
    "    df.pickup_longitude : float\n",
    "        origin longitude.\n",
    "    df.pickup_latitude : float\n",
    "        origin latitude.\n",
    "    df.dropoff_longitude : float\n",
    "        destination longitude.\n",
    "    df.dropoff_latitude : float\n",
    "        destination latitude.\n",
    "\n",
    "    Returns\n",
    "    -------\n",
    "    float\n",
    "        distance in km between the two locations.\n",
    "    \"\"\"\n",
    "    # approximate radius of earth in km\n",
    "    R = 6373.0\n",
    "\n",
    "\n",
    "    lat1 = df.pickup_latitude.map(radians)\n",
    "    lon1 = df.pickup_longitude.map(radians)\n",
    "    lat2 = df.dropoff_latitude.map(radians)\n",
    "    lon2 = df.dropoff_longitude.map(radians)\n",
    "\n",
    "    dlon = lon2 - lon1\n",
    "    dlat = lat2 - lat1\n",
    "    \n",
    "    a = np.sin(dlat/2)**2 + np.cos(lat1) * np.cos(lat2) * np.sin(dlon/2) **2\n",
    "    c = 2 * np.arctan2(a**0.5, (1-a)**0.5)\n",
    "\n",
    "    distance = R * c\n",
    "    \n",
    "    return distance"
   ]
  },
  {
   "cell_type": "code",
   "execution_count": 16,
   "id": "67303208",
   "metadata": {},
   "outputs": [
    {
     "data": {
      "image/png": "[encoded data removed]",
      "text/plain": [
       "<Figure size 432x288 with 1 Axes>"
      ]
     },
     "metadata": {
      "needs_background": "light"
     },
     "output_type": "display_data"
    }
   ],
   "source": [
    "# Calculate the ride distance\n",
    "ny_taxi_train['distance_km'] = dist_km(ny_taxi_train)\n",
    "\n",
    "# Draw a scatterplot\n",
    "plt.scatter(x=ny_taxi_train['fare_amount'],\n",
    "            y=ny_taxi_train['distance_km'],\n",
    "            alpha=0.5)\n",
    "plt.xlabel('Fare amount')\n",
    "plt.ylabel('Distance, km')\n",
    "plt.title('Fare amount based on the distance')\n",
    "\n",
    "# Limit on the distance and fare amount\n",
    "plt.ylim(0, 20)\n",
    "plt.xlim(0, 60)\n",
    "plt.show()"
   ]
  },
  {
   "cell_type": "markdown",
   "id": "eec8715f",
   "metadata": {},
   "source": [
    "It's obvious now that there is a clear dependency between ride distance and fare amount. So, ride distance is, probably, a good feature. Let's find some others!\n",
    "\n",
    "Another idea that comes to mind is that the price of a ride could change during the day. Our goal is to plot the median fare amount for each hour of the day as a simple line plot."
   ]
  },
  {
   "cell_type": "code",
   "execution_count": 17,
   "id": "197981bf",
   "metadata": {},
   "outputs": [
    {
     "data": {
      "image/png": "[encoded data removed]",
      "text/plain": [
       "<Figure size 432x288 with 1 Axes>"
      ]
     },
     "metadata": {
      "needs_background": "light"
     },
     "output_type": "display_data"
    }
   ],
   "source": [
    "# Create hour feature\n",
    "ny_taxi_train['pickup_datetime'] = pd.to_datetime(ny_taxi_train.pickup_datetime)\n",
    "ny_taxi_train['hour'] = ny_taxi_train.pickup_datetime.dt.hour\n",
    "\n",
    "# Find median fare_amount for each hour\n",
    "hour_price = ny_taxi_train.groupby('hour', as_index=False)['fare_amount'].median()\n",
    "\n",
    "# Plot the line plot\n",
    "plt.plot(hour_price['hour'], hour_price['fare_amount'], marker='o')\n",
    "plt.xlabel('Hour of the day')\n",
    "plt.ylabel('Median fare amount')\n",
    "plt.title('Fare amount based on day time')\n",
    "plt.xticks(range(24))\n",
    "plt.show()"
   ]
  },
  {
   "cell_type": "markdown",
   "id": "e28ca606",
   "metadata": {},
   "source": [
    "We see that prices are a bit higher during the night. It is a good indicator that we should include the `\"hour\"` feature in the final model, or at least add a binary feature `\"is_night\"`. \n",
    "\n",
    "## K-fold cross-validation\n",
    "\n",
    "We will start by getting hands-on experience in the most commonly used K-fold cross-validation.\n",
    "\n",
    "The data we will be working with is from the \"Two sigma connect: rental listing inquiries\" Kaggle competition. The competition problem is a multi-class classification of the rental listings into 3 classes: low interest, medium interest and high interest. For faster performance, we will work with a subsample consisting of 1,000 observations."
   ]
  },
  {
   "cell_type": "code",
   "execution_count": 18,
   "id": "cb2fac1c",
   "metadata": {},
   "outputs": [
    {
     "name": "stdout",
     "output_type": "stream",
     "text": [
      "(1000, 15)\n"
     ]
    },
    {
     "data": {
      "text/html": [
       "<div>\n",
       "<style scoped>\n",
       "    .dataframe tbody tr th:only-of-type {\n",
       "        vertical-align: middle;\n",
       "    }\n",
       "\n",
       "    .dataframe tbody tr th {\n",
       "        vertical-align: top;\n",
       "    }\n",
       "\n",
       "    .dataframe thead th {\n",
       "        text-align: right;\n",
       "    }\n",
       "</style>\n",
       "<table border=\"1\" class=\"dataframe\">\n",
       "  <thead>\n",
       "    <tr style=\"text-align: right;\">\n",
       "      <th></th>\n",
       "      <th>bathrooms</th>\n",
       "      <th>bedrooms</th>\n",
       "      <th>building_id</th>\n",
       "      <th>created</th>\n",
       "      <th>description</th>\n",
       "      <th>display_address</th>\n",
       "      <th>features</th>\n",
       "      <th>latitude</th>\n",
       "      <th>listing_id</th>\n",
       "      <th>longitude</th>\n",
       "      <th>manager_id</th>\n",
       "      <th>photos</th>\n",
       "      <th>price</th>\n",
       "      <th>street_address</th>\n",
       "      <th>interest_level</th>\n",
       "    </tr>\n",
       "  </thead>\n",
       "  <tbody>\n",
       "    <tr>\n",
       "      <th>4</th>\n",
       "      <td>1.0</td>\n",
       "      <td>1</td>\n",
       "      <td>8579a0b0d54db803821a35a4a615e97a</td>\n",
       "      <td>2016-06-16 05:55:27</td>\n",
       "      <td>Spacious 1 Bedroom 1 Bathroom in Williamsburg!...</td>\n",
       "      <td>145 Borinquen Place</td>\n",
       "      <td>[Dining Room, Pre-War, Laundry in Building, Di...</td>\n",
       "      <td>40.7108</td>\n",
       "      <td>7170325</td>\n",
       "      <td>-73.9539</td>\n",
       "      <td>a10db4590843d78c784171a107bdacb4</td>\n",
       "      <td>[https://photos.renthop.com/2/7170325_3bb5ac84...</td>\n",
       "      <td>2400</td>\n",
       "      <td>145 Borinquen Place</td>\n",
       "      <td>medium</td>\n",
       "    </tr>\n",
       "    <tr>\n",
       "      <th>6</th>\n",
       "      <td>1.0</td>\n",
       "      <td>2</td>\n",
       "      <td>b8e75fc949a6cd8225b455648a951712</td>\n",
       "      <td>2016-06-01 05:44:33</td>\n",
       "      <td>BRAND NEW GUT RENOVATED TRUE 2 BEDROOMFind you...</td>\n",
       "      <td>East 44th</td>\n",
       "      <td>[Doorman, Elevator, Laundry in Building, Dishw...</td>\n",
       "      <td>40.7513</td>\n",
       "      <td>7092344</td>\n",
       "      <td>-73.9722</td>\n",
       "      <td>955db33477af4f40004820b4aed804a0</td>\n",
       "      <td>[https://photos.renthop.com/2/7092344_7663c19a...</td>\n",
       "      <td>3800</td>\n",
       "      <td>230 East 44th</td>\n",
       "      <td>low</td>\n",
       "    </tr>\n",
       "    <tr>\n",
       "      <th>9</th>\n",
       "      <td>1.0</td>\n",
       "      <td>2</td>\n",
       "      <td>cd759a988b8f23924b5a2058d5ab2b49</td>\n",
       "      <td>2016-06-14 15:19:59</td>\n",
       "      <td>**FLEX 2 BEDROOM WITH FULL PRESSURIZED WALL**L...</td>\n",
       "      <td>East 56th Street</td>\n",
       "      <td>[Doorman, Elevator, Laundry in Building, Laund...</td>\n",
       "      <td>40.7575</td>\n",
       "      <td>7158677</td>\n",
       "      <td>-73.9625</td>\n",
       "      <td>c8b10a317b766204f08e613cef4ce7a0</td>\n",
       "      <td>[https://photos.renthop.com/2/7158677_c897a134...</td>\n",
       "      <td>3495</td>\n",
       "      <td>405 East 56th Street</td>\n",
       "      <td>medium</td>\n",
       "    </tr>\n",
       "    <tr>\n",
       "      <th>10</th>\n",
       "      <td>1.5</td>\n",
       "      <td>3</td>\n",
       "      <td>53a5b119ba8f7b61d4e010512e0dfc85</td>\n",
       "      <td>2016-06-24 07:54:24</td>\n",
       "      <td>A Brand New 3 Bedroom 1.5 bath ApartmentEnjoy ...</td>\n",
       "      <td>Metropolitan Avenue</td>\n",
       "      <td>[]</td>\n",
       "      <td>40.7145</td>\n",
       "      <td>7211212</td>\n",
       "      <td>-73.9425</td>\n",
       "      <td>5ba989232d0489da1b5f2c45f6688adc</td>\n",
       "      <td>[https://photos.renthop.com/2/7211212_1ed4542e...</td>\n",
       "      <td>3000</td>\n",
       "      <td>792 Metropolitan Avenue</td>\n",
       "      <td>medium</td>\n",
       "    </tr>\n",
       "    <tr>\n",
       "      <th>15</th>\n",
       "      <td>1.0</td>\n",
       "      <td>0</td>\n",
       "      <td>bfb9405149bfff42a92980b594c28234</td>\n",
       "      <td>2016-06-28 03:50:23</td>\n",
       "      <td>Over-sized Studio w abundant closets. Availabl...</td>\n",
       "      <td>East 34th Street</td>\n",
       "      <td>[Doorman, Elevator, Fitness Center, Laundry in...</td>\n",
       "      <td>40.7439</td>\n",
       "      <td>7225292</td>\n",
       "      <td>-73.9743</td>\n",
       "      <td>2c3b41f588fbb5234d8a1e885a436cfa</td>\n",
       "      <td>[https://photos.renthop.com/2/7225292_901f1984...</td>\n",
       "      <td>2795</td>\n",
       "      <td>340 East 34th Street</td>\n",
       "      <td>low</td>\n",
       "    </tr>\n",
       "  </tbody>\n",
       "</table>\n",
       "</div>"
      ],
      "text/plain": [
       "    bathrooms  bedrooms                       building_id  \\\n",
       "4         1.0         1  8579a0b0d54db803821a35a4a615e97a   \n",
       "6         1.0         2  b8e75fc949a6cd8225b455648a951712   \n",
       "9         1.0         2  cd759a988b8f23924b5a2058d5ab2b49   \n",
       "10        1.5         3  53a5b119ba8f7b61d4e010512e0dfc85   \n",
       "15        1.0         0  bfb9405149bfff42a92980b594c28234   \n",
       "\n",
       "                created                                        description  \\\n",
       "4   2016-06-16 05:55:27  Spacious 1 Bedroom 1 Bathroom in Williamsburg!...   \n",
       "6   2016-06-01 05:44:33  BRAND NEW GUT RENOVATED TRUE 2 BEDROOMFind you...   \n",
       "9   2016-06-14 15:19:59  **FLEX 2 BEDROOM WITH FULL PRESSURIZED WALL**L...   \n",
       "10  2016-06-24 07:54:24  A Brand New 3 Bedroom 1.5 bath ApartmentEnjoy ...   \n",
       "15  2016-06-28 03:50:23  Over-sized Studio w abundant closets. Availabl...   \n",
       "\n",
       "        display_address                                           features  \\\n",
       "4   145 Borinquen Place  [Dining Room, Pre-War, Laundry in Building, Di...   \n",
       "6             East 44th  [Doorman, Elevator, Laundry in Building, Dishw...   \n",
       "9      East 56th Street  [Doorman, Elevator, Laundry in Building, Laund...   \n",
       "10  Metropolitan Avenue                                                 []   \n",
       "15     East 34th Street  [Doorman, Elevator, Fitness Center, Laundry in...   \n",
       "\n",
       "    latitude  listing_id  longitude                        manager_id  \\\n",
       "4    40.7108     7170325   -73.9539  a10db4590843d78c784171a107bdacb4   \n",
       "6    40.7513     7092344   -73.9722  955db33477af4f40004820b4aed804a0   \n",
       "9    40.7575     7158677   -73.9625  c8b10a317b766204f08e613cef4ce7a0   \n",
       "10   40.7145     7211212   -73.9425  5ba989232d0489da1b5f2c45f6688adc   \n",
       "15   40.7439     7225292   -73.9743  2c3b41f588fbb5234d8a1e885a436cfa   \n",
       "\n",
       "                                               photos  price  \\\n",
       "4   [https://photos.renthop.com/2/7170325_3bb5ac84...   2400   \n",
       "6   [https://photos.renthop.com/2/7092344_7663c19a...   3800   \n",
       "9   [https://photos.renthop.com/2/7158677_c897a134...   3495   \n",
       "10  [https://photos.renthop.com/2/7211212_1ed4542e...   3000   \n",
       "15  [https://photos.renthop.com/2/7225292_901f1984...   2795   \n",
       "\n",
       "             street_address interest_level  \n",
       "4       145 Borinquen Place         medium  \n",
       "6             230 East 44th            low  \n",
       "9      405 East 56th Street         medium  \n",
       "10  792 Metropolitan Avenue         medium  \n",
       "15     340 East 34th Street            low  "
      ]
     },
     "metadata": {},
     "output_type": "display_data"
    }
   ],
   "source": [
    "# Read train and test data\n",
    "two_sig_dir = 'data/two_sigma_connect_rental_listing_inquiries/'\n",
    "two_sig_train = pd.read_json(two_sig_dir + 'train.json')\n",
    "two_sig_train = two_sig_train[:1000]\n",
    "print(two_sig_train.shape)\n",
    "display(two_sig_train.head())"
   ]
  },
  {
   "cell_type": "code",
   "execution_count": 72,
   "id": "8c712e3f",
   "metadata": {},
   "outputs": [
    {
     "name": "stdout",
     "output_type": "stream",
     "text": [
      "Fold: 0\n",
      "CV train shape: (666, 15)\n",
      "Medium interest listings in CV train: 177\n",
      "\n",
      "Fold: 1\n",
      "CV train shape: (667, 15)\n",
      "Medium interest listings in CV train: 163\n",
      "\n",
      "Fold: 2\n",
      "CV train shape: (667, 15)\n",
      "Medium interest listings in CV train: 176\n",
      "\n"
     ]
    }
   ],
   "source": [
    "# Create a KFold object\n",
    "kf = KFold(n_splits=3, shuffle=True, random_state=42)\n",
    "\n",
    "# Loop through each split\n",
    "fold = 0\n",
    "for train_index, test_index in kf.split(two_sig_train):\n",
    "    # Obtain training and testing folds\n",
    "    cv_train, cv_test = two_sig_train.iloc[train_index], two_sig_train.iloc[test_index]\n",
    "    print('Fold: {}'.format(fold))\n",
    "    print('CV train shape: {}'.format(cv_train.shape))\n",
    "    print('Medium interest listings in CV train: {}\\n'.format(sum(cv_train.interest_level == 'medium')))\n",
    "    fold += 1"
   ]
  },
  {
   "cell_type": "markdown",
   "id": "cb461a51",
   "metadata": {},
   "source": [
    "So, we see that the number of observations in each fold is almost uniform. It means that we've just splitted the train data into 3 equal folds. However, if we look at the number of medium-interest listings, it's varying from 162 to 175 from one fold to another. To make them uniform among the folds, let's use Stratified K-fold!\n",
    "\n",
    "## Stratified K-fold\n",
    "As we've just noticed, we have a pretty different target variable distribution among the folds due to the random splits. It's not crucial for this particular competition, but could be an issue for the classification competitions with the highly imbalanced target variable.\n",
    "\n",
    "To overcome this, let's implement the stratified K-fold strategy with the stratification on the target variable. "
   ]
  },
  {
   "cell_type": "code",
   "execution_count": 20,
   "id": "dcd37f01",
   "metadata": {},
   "outputs": [
    {
     "name": "stdout",
     "output_type": "stream",
     "text": [
      "Fold: 0\n",
      "CV train shape: (666, 15)\n",
      "Medium interest listings in CV train: 172\n",
      "\n",
      "Fold: 1\n",
      "CV train shape: (667, 15)\n",
      "Medium interest listings in CV train: 172\n",
      "\n",
      "Fold: 2\n",
      "CV train shape: (667, 15)\n",
      "Medium interest listings in CV train: 172\n",
      "\n"
     ]
    }
   ],
   "source": [
    "# Create a StratifiedKFold object\n",
    "str_kf = StratifiedKFold(n_splits=3, shuffle=True, random_state=42)\n",
    "\n",
    "# Loop through each split\n",
    "fold = 0\n",
    "for train_index, test_index in str_kf.split(two_sig_train, two_sig_train['interest_level']):\n",
    "    # Obtain training and testing folds\n",
    "    cv_train, cv_test = two_sig_train.iloc[train_index], two_sig_train.iloc[test_index]\n",
    "    print('Fold: {}'.format(fold))\n",
    "    print('CV train shape: {}'.format(cv_train.shape))\n",
    "    print('Medium interest listings in CV train: {}\\n'.format(sum(cv_train.interest_level == 'medium')))\n",
    "    fold += 1"
   ]
  },
  {
   "cell_type": "markdown",
   "id": "74f4908a",
   "metadata": {},
   "source": [
    "Now we see that both size and target distribution are the same among the folds. The general rule is to __prefer Stratified K-Fold__ over usual K-Fold in any classification problem. \n",
    "\n",
    "## Time K-fold\n",
    "\n",
    "The \"Store Item Demand Forecasting Challenge\" is a competition with time series data where we should predict future sales. So, time K-fold cross-validation should be applied. Our goal is to create this cross-validation strategy and make sure that it works as expected."
   ]
  },
  {
   "cell_type": "code",
   "execution_count": 21,
   "id": "c245b8c2",
   "metadata": {},
   "outputs": [
    {
     "name": "stdout",
     "output_type": "stream",
     "text": [
      "(15500, 4)\n"
     ]
    },
    {
     "data": {
      "text/html": [
       "<div>\n",
       "<style scoped>\n",
       "    .dataframe tbody tr th:only-of-type {\n",
       "        vertical-align: middle;\n",
       "    }\n",
       "\n",
       "    .dataframe tbody tr th {\n",
       "        vertical-align: top;\n",
       "    }\n",
       "\n",
       "    .dataframe thead th {\n",
       "        text-align: right;\n",
       "    }\n",
       "</style>\n",
       "<table border=\"1\" class=\"dataframe\">\n",
       "  <thead>\n",
       "    <tr style=\"text-align: right;\">\n",
       "      <th></th>\n",
       "      <th>date</th>\n",
       "      <th>store</th>\n",
       "      <th>item</th>\n",
       "      <th>sales</th>\n",
       "    </tr>\n",
       "  </thead>\n",
       "  <tbody>\n",
       "    <tr>\n",
       "      <th>0</th>\n",
       "      <td>2013-01-01</td>\n",
       "      <td>1</td>\n",
       "      <td>1</td>\n",
       "      <td>13</td>\n",
       "    </tr>\n",
       "    <tr>\n",
       "      <th>1</th>\n",
       "      <td>2013-01-02</td>\n",
       "      <td>1</td>\n",
       "      <td>1</td>\n",
       "      <td>11</td>\n",
       "    </tr>\n",
       "    <tr>\n",
       "      <th>2</th>\n",
       "      <td>2013-01-03</td>\n",
       "      <td>1</td>\n",
       "      <td>1</td>\n",
       "      <td>14</td>\n",
       "    </tr>\n",
       "    <tr>\n",
       "      <th>3</th>\n",
       "      <td>2013-01-04</td>\n",
       "      <td>1</td>\n",
       "      <td>1</td>\n",
       "      <td>13</td>\n",
       "    </tr>\n",
       "    <tr>\n",
       "      <th>4</th>\n",
       "      <td>2013-01-05</td>\n",
       "      <td>1</td>\n",
       "      <td>1</td>\n",
       "      <td>10</td>\n",
       "    </tr>\n",
       "  </tbody>\n",
       "</table>\n",
       "</div>"
      ],
      "text/plain": [
       "         date  store  item  sales\n",
       "0  2013-01-01      1     1     13\n",
       "1  2013-01-02      1     1     11\n",
       "2  2013-01-03      1     1     14\n",
       "3  2013-01-04      1     1     13\n",
       "4  2013-01-05      1     1     10"
      ]
     },
     "metadata": {},
     "output_type": "display_data"
    }
   ],
   "source": [
    "# Read train \n",
    "store_demand_dir = 'data/store_item_demand_forecasting_challenge/'\n",
    "store_demand_train = pd.read_csv(store_demand_dir + 'train.csv', nrows=15500)\n",
    "print(store_demand_train.shape)\n",
    "display(store_demand_train.head())"
   ]
  },
  {
   "cell_type": "code",
   "execution_count": 22,
   "id": "2c7fc216",
   "metadata": {},
   "outputs": [
    {
     "name": "stdout",
     "output_type": "stream",
     "text": [
      "Fold : 0\n",
      "Train date range: from 2013-01-01 to 2014-03-07\n",
      "Test date range: from 2014-03-07 to 2015-05-12\n",
      "\n",
      "Fold : 1\n",
      "Train date range: from 2013-01-01 to 2015-05-12\n",
      "Test date range: from 2015-05-12 to 2016-09-03\n",
      "\n",
      "Fold : 2\n",
      "Train date range: from 2013-01-01 to 2016-09-03\n",
      "Test date range: from 2016-09-03 to 2017-12-31\n",
      "\n"
     ]
    }
   ],
   "source": [
    "# Create TimeSeriesSplit object\n",
    "time_kfold = TimeSeriesSplit(n_splits=3)\n",
    "\n",
    "# Sort train data by date\n",
    "store_demand_train = store_demand_train.sort_values('date')\n",
    "\n",
    "# Iterate through each split\n",
    "fold = 0\n",
    "for train_index, test_index in time_kfold.split(store_demand_train):\n",
    "    cv_train, cv_test = store_demand_train.iloc[train_index], store_demand_train.iloc[test_index]\n",
    "    \n",
    "    print('Fold :', fold)\n",
    "    print('Train date range: from {} to {}'.format(cv_train.date.min(), cv_train.date.max()))\n",
    "    print('Test date range: from {} to {}\\n'.format(cv_test.date.min(), cv_test.date.max()))\n",
    "    fold += 1"
   ]
  },
  {
   "cell_type": "markdown",
   "id": "d09466f2",
   "metadata": {},
   "source": [
    "We have applied time K-fold cross-validation strategy for the demand forecasting. The output works as expected, training only on the past data and predicting the future.\n",
    "\n",
    "## Overall validation score\n",
    "\n",
    "Now it's time to get the actual model performance using cross-validation! How does our store item demand prediction model perform?\n",
    "\n",
    "Our task is to take the Mean Squared Error (MSE) for each fold separately, and then combine these results into a single number.\n",
    "\n",
    "We will use the `get_fold_mse()` function that for each cross-validation split, fits a Random Forest model and returns a list of MSE scores by fold. `get_fold_mse()` accepts two arguments: train and TimeSeriesSplit object."
   ]
  },
  {
   "cell_type": "code",
   "execution_count": 23,
   "id": "5d1227cf",
   "metadata": {},
   "outputs": [],
   "source": [
    "def get_fold_mse(train, kf):\n",
    "    \"\"\"\n",
    "    The function was taken from:\n",
    "    https://campus.datacamp.com/courses/winning-a-kaggle-competition-in-python/dive-into-the-competition?ex=13\n",
    "    \n",
    "    This function does the following:\n",
    "    - for each cross-validation split fits a Random Forest model\n",
    "    - and returns a list of MSE scores by fold. \n",
    "    \n",
    "    Parameters\n",
    "    ----------\n",
    "    train: DataFrame\n",
    "        training data.\n",
    "    kf : TimeSeriesSplit objec\n",
    "        objec for cross validation.\n",
    "\n",
    "    Returns\n",
    "    -------\n",
    "    array\n",
    "        mse scores of all folds.\n",
    "    \n",
    "    \"\"\"\n",
    "    \n",
    "    mse_scores = []\n",
    "    \n",
    "    for train_index, test_index in kf.split(train):\n",
    "        fold_train, fold_test = train.loc[train_index], train.loc[test_index]\n",
    "\n",
    "        # Fit the data and make predictions\n",
    "        # Create a Random Forest object\n",
    "        rf = RandomForestRegressor(n_estimators=10, random_state=123)\n",
    "\n",
    "        # Train a model\n",
    "        rf.fit(X=fold_train[['store', 'item']], y=fold_train['sales'])\n",
    "\n",
    "        # Get predictions for the test set\n",
    "        pred = rf.predict(fold_test[['store', 'item']])\n",
    "    \n",
    "        fold_score = round(mean_squared_error(fold_test['sales'], pred), 5)\n",
    "        mse_scores.append(fold_score)\n",
    "        \n",
    "    return mse_scores"
   ]
  },
  {
   "cell_type": "code",
   "execution_count": 24,
   "id": "32601c30",
   "metadata": {},
   "outputs": [
    {
     "name": "stdout",
     "output_type": "stream",
     "text": [
      "Mean validation MSE: 87.85017\n",
      "MSE by fold: [70.66459, 41.35682, 151.52911]\n",
      "Overall validation MSE: 134.44053\n"
     ]
    }
   ],
   "source": [
    "\n",
    "# Initialize 3-fold time cross-validation\n",
    "kf = TimeSeriesSplit(n_splits=3)\n",
    "\n",
    "# Get MSE scores for each cross-validation split\n",
    "mse_scores = get_fold_mse(store_demand_train, kf)\n",
    "\n",
    "print('Mean validation MSE: {:.5f}'.format(np.mean(mse_scores)))\n",
    "print('MSE by fold: {}'.format(mse_scores))\n",
    "print('Overall validation MSE: {:.5f}'.format(np.mean(mse_scores) + np.std(mse_scores)))"
   ]
  },
  {
   "cell_type": "markdown",
   "id": "3787fdec",
   "metadata": {},
   "source": [
    "Now, we know different validation strategies as well as how to use them to obtain overall model performance. It's time for the next and the most interesting part of the solution process: Feature Engineering and Modeling.\n",
    "\n",
    "# 3. Feature Engineering\n",
    "\n",
    "Now that we know the basics of Kaggle competitions, we will learn how to study the specific problem at hand. We will practice EDA and get to establish correct local validation strategies. Moreover, we will learn about data leakage.\n",
    "\n",
    "## Arithmetical features\n",
    "\n",
    "To practice creating new features, we will be working with a subsample from the Kaggle competition called [\"House Prices: Advanced Regression Techniques\"](https://www.kaggle.com/c/house-prices-advanced-regression-techniques). The goal of this competition is to predict the price of the house based on its properties. It's a regression problem with Root Mean Squared Error as an evaluation metric.\n",
    "\n",
    "Our goal is to create new features and determine whether they improve our validation score. To get the validation score from 5-fold cross-validation, we will use `get_kfold_rmse()` function with the `train` DataFrame."
   ]
  },
  {
   "cell_type": "code",
   "execution_count": 25,
   "id": "057548bc",
   "metadata": {},
   "outputs": [],
   "source": [
    "def get_kfold_rmse(train):\n",
    "    \"\"\"\n",
    "    The function was taken from:\n",
    "    https://campus.datacamp.com/courses/winning-a-kaggle-competition-in-python/feature-engineering-9e20ff8d-821e-4fcf-9c63-02f4b58dcdc2?ex=2\n",
    "    \n",
    "    This function does the following:\n",
    "    - Takes a train DataFrame from the \"House Prices: Advanced Regression Techniques\" Kaggle competition\n",
    "    - and returns a list of MSE scores by fold (assuming that the KFold object exists). \n",
    "    \n",
    "    Parameters\n",
    "    ----------\n",
    "    train: DataFrame\n",
    "        training data.\n",
    "\n",
    "    Returns\n",
    "    -------\n",
    "    array\n",
    "        mse scores of all folds.\n",
    "    \n",
    "    \"\"\"\n",
    "    \n",
    "    mse_scores = []\n",
    "\n",
    "    for train_index, test_index in kf.split(train):\n",
    "        train = train.fillna(0)\n",
    "        feats = [x for x in train.columns if x not in ['Id', 'SalePrice', 'RoofStyle', 'CentralAir']]\n",
    "        \n",
    "        fold_train, fold_test = train.loc[train_index], train.loc[test_index]\n",
    "\n",
    "        # Fit the data and make predictions\n",
    "        # Create a Random Forest object\n",
    "        rf = RandomForestRegressor(n_estimators=10, min_samples_split=10, random_state=42)\n",
    "\n",
    "        # Train a model\n",
    "        rf.fit(X=fold_train[feats], y=fold_train['SalePrice'])\n",
    "\n",
    "        # Get predictions for the test set\n",
    "        pred = rf.predict(fold_test[feats])\n",
    "    \n",
    "        fold_score = mean_squared_error(fold_test['SalePrice'], pred)\n",
    "        mse_scores.append(np.sqrt(fold_score))\n",
    "        \n",
    "    return round(np.mean(mse_scores) + np.std(mse_scores), 2)\n"
   ]
  },
  {
   "cell_type": "code",
   "execution_count": 74,
   "id": "ee361b75",
   "metadata": {},
   "outputs": [
    {
     "name": "stdout",
     "output_type": "stream",
     "text": [
      "(1460, 17)\n"
     ]
    },
    {
     "data": {
      "text/html": [
       "<div>\n",
       "<style scoped>\n",
       "    .dataframe tbody tr th:only-of-type {\n",
       "        vertical-align: middle;\n",
       "    }\n",
       "\n",
       "    .dataframe tbody tr th {\n",
       "        vertical-align: top;\n",
       "    }\n",
       "\n",
       "    .dataframe thead th {\n",
       "        text-align: right;\n",
       "    }\n",
       "</style>\n",
       "<table border=\"1\" class=\"dataframe\">\n",
       "  <thead>\n",
       "    <tr style=\"text-align: right;\">\n",
       "      <th></th>\n",
       "      <th>Id</th>\n",
       "      <th>LotArea</th>\n",
       "      <th>OverallQual</th>\n",
       "      <th>YearBuilt</th>\n",
       "      <th>RoofStyle</th>\n",
       "      <th>TotalBsmtSF</th>\n",
       "      <th>CentralAir</th>\n",
       "      <th>1stFlrSF</th>\n",
       "      <th>2ndFlrSF</th>\n",
       "      <th>FullBath</th>\n",
       "      <th>HalfBath</th>\n",
       "      <th>BedroomAbvGr</th>\n",
       "      <th>KitchenAbvGr</th>\n",
       "      <th>TotRmsAbvGrd</th>\n",
       "      <th>GarageCars</th>\n",
       "      <th>GarageArea</th>\n",
       "      <th>SalePrice</th>\n",
       "    </tr>\n",
       "  </thead>\n",
       "  <tbody>\n",
       "    <tr>\n",
       "      <th>0</th>\n",
       "      <td>1</td>\n",
       "      <td>8450</td>\n",
       "      <td>7</td>\n",
       "      <td>2003</td>\n",
       "      <td>Gable</td>\n",
       "      <td>856</td>\n",
       "      <td>Y</td>\n",
       "      <td>856</td>\n",
       "      <td>854</td>\n",
       "      <td>2</td>\n",
       "      <td>1</td>\n",
       "      <td>3</td>\n",
       "      <td>1</td>\n",
       "      <td>8</td>\n",
       "      <td>2</td>\n",
       "      <td>548</td>\n",
       "      <td>208500</td>\n",
       "    </tr>\n",
       "    <tr>\n",
       "      <th>1</th>\n",
       "      <td>2</td>\n",
       "      <td>9600</td>\n",
       "      <td>6</td>\n",
       "      <td>1976</td>\n",
       "      <td>Gable</td>\n",
       "      <td>1262</td>\n",
       "      <td>Y</td>\n",
       "      <td>1262</td>\n",
       "      <td>0</td>\n",
       "      <td>2</td>\n",
       "      <td>0</td>\n",
       "      <td>3</td>\n",
       "      <td>1</td>\n",
       "      <td>6</td>\n",
       "      <td>2</td>\n",
       "      <td>460</td>\n",
       "      <td>181500</td>\n",
       "    </tr>\n",
       "    <tr>\n",
       "      <th>2</th>\n",
       "      <td>3</td>\n",
       "      <td>11250</td>\n",
       "      <td>7</td>\n",
       "      <td>2001</td>\n",
       "      <td>Gable</td>\n",
       "      <td>920</td>\n",
       "      <td>Y</td>\n",
       "      <td>920</td>\n",
       "      <td>866</td>\n",
       "      <td>2</td>\n",
       "      <td>1</td>\n",
       "      <td>3</td>\n",
       "      <td>1</td>\n",
       "      <td>6</td>\n",
       "      <td>2</td>\n",
       "      <td>608</td>\n",
       "      <td>223500</td>\n",
       "    </tr>\n",
       "    <tr>\n",
       "      <th>3</th>\n",
       "      <td>4</td>\n",
       "      <td>9550</td>\n",
       "      <td>7</td>\n",
       "      <td>1915</td>\n",
       "      <td>Gable</td>\n",
       "      <td>756</td>\n",
       "      <td>Y</td>\n",
       "      <td>961</td>\n",
       "      <td>756</td>\n",
       "      <td>1</td>\n",
       "      <td>0</td>\n",
       "      <td>3</td>\n",
       "      <td>1</td>\n",
       "      <td>7</td>\n",
       "      <td>3</td>\n",
       "      <td>642</td>\n",
       "      <td>140000</td>\n",
       "    </tr>\n",
       "    <tr>\n",
       "      <th>4</th>\n",
       "      <td>5</td>\n",
       "      <td>14260</td>\n",
       "      <td>8</td>\n",
       "      <td>2000</td>\n",
       "      <td>Gable</td>\n",
       "      <td>1145</td>\n",
       "      <td>Y</td>\n",
       "      <td>1145</td>\n",
       "      <td>1053</td>\n",
       "      <td>2</td>\n",
       "      <td>1</td>\n",
       "      <td>4</td>\n",
       "      <td>1</td>\n",
       "      <td>9</td>\n",
       "      <td>3</td>\n",
       "      <td>836</td>\n",
       "      <td>250000</td>\n",
       "    </tr>\n",
       "  </tbody>\n",
       "</table>\n",
       "</div>"
      ],
      "text/plain": [
       "   Id  LotArea  OverallQual  YearBuilt RoofStyle  TotalBsmtSF CentralAir  \\\n",
       "0   1     8450            7       2003     Gable          856          Y   \n",
       "1   2     9600            6       1976     Gable         1262          Y   \n",
       "2   3    11250            7       2001     Gable          920          Y   \n",
       "3   4     9550            7       1915     Gable          756          Y   \n",
       "4   5    14260            8       2000     Gable         1145          Y   \n",
       "\n",
       "   1stFlrSF  2ndFlrSF  FullBath  HalfBath  BedroomAbvGr  KitchenAbvGr  \\\n",
       "0       856       854         2         1             3             1   \n",
       "1      1262         0         2         0             3             1   \n",
       "2       920       866         2         1             3             1   \n",
       "3       961       756         1         0             3             1   \n",
       "4      1145      1053         2         1             4             1   \n",
       "\n",
       "   TotRmsAbvGrd  GarageCars  GarageArea  SalePrice  \n",
       "0             8           2         548     208500  \n",
       "1             6           2         460     181500  \n",
       "2             6           2         608     223500  \n",
       "3             7           3         642     140000  \n",
       "4             9           3         836     250000  "
      ]
     },
     "metadata": {},
     "output_type": "display_data"
    }
   ],
   "source": [
    "# Read train and test data\n",
    "house_prices_dir = 'data/house_prices_advanced_regression_techniques/'\n",
    "house_prices_train = pd.read_csv(house_prices_dir + 'train.csv')\n",
    "\n",
    "# take only part of the data\n",
    "house_prices_train = house_prices_train[['Id', 'LotArea', 'OverallQual', 'YearBuilt',\n",
    "                                         'RoofStyle', 'TotalBsmtSF', 'CentralAir',\n",
    "                                         '1stFlrSF', '2ndFlrSF', 'FullBath',\n",
    "                                         'HalfBath', 'BedroomAbvGr', 'KitchenAbvGr',\n",
    "                                         'TotRmsAbvGrd', 'GarageCars', 'GarageArea', 'SalePrice']]\n",
    "print(house_prices_train.shape)\n",
    "display(house_prices_train.head())"
   ]
  },
  {
   "cell_type": "code",
   "execution_count": 27,
   "id": "a59928a0",
   "metadata": {},
   "outputs": [
    {
     "data": {
      "text/plain": [
       "<AxesSubplot:>"
      ]
     },
     "execution_count": 27,
     "metadata": {},
     "output_type": "execute_result"
    },
    {
     "data": {
      "image/png": "[encoded data removed]",
      "text/plain": [
       "<Figure size 432x288 with 1 Axes>"
      ]
     },
     "metadata": {
      "needs_background": "light"
     },
     "output_type": "display_data"
    }
   ],
   "source": [
    "# To determine a problem type let's explore the target variable \"SalePrice\" in the the train dataset.\n",
    "house_prices_train.SalePrice.hist(bins=30, alpha=0.5)"
   ]
  },
  {
   "cell_type": "code",
   "execution_count": 28,
   "id": "7c1f8018",
   "metadata": {},
   "outputs": [
    {
     "name": "stdout",
     "output_type": "stream",
     "text": [
      "RMSE before feature engineering: 39370.14\n"
     ]
    }
   ],
   "source": [
    "# Create a KFold object\n",
    "kf = KFold(n_splits=5, shuffle=True, random_state=42)\n",
    "\n",
    "# Look at the initial RMSE\n",
    "print('RMSE before feature engineering:', get_kfold_rmse(house_prices_train))"
   ]
  },
  {
   "cell_type": "markdown",
   "id": "a4f765a8",
   "metadata": {},
   "source": [
    "Now, we will create a new feature representing the total area (basement, 1st and 2nd floors) of the house. The columns `\"TotalBsmtSF\"`, `\"1stFlrSF\"` and `\"2ndFlrSF\"` give the areas of the basement, 1st and 2nd floors, respectively."
   ]
  },
  {
   "cell_type": "code",
   "execution_count": 29,
   "id": "27659c7d",
   "metadata": {},
   "outputs": [
    {
     "name": "stdout",
     "output_type": "stream",
     "text": [
      "RMSE with total area: 39530.75\n"
     ]
    }
   ],
   "source": [
    "# Find the total area of the house\n",
    "house_prices_train['TotalArea'] = house_prices_train[[\"TotalBsmtSF\", \"1stFlrSF\", \"2ndFlrSF\"]].sum(axis = 1, skipna = True) # sum over the column axis.\n",
    "\n",
    "# Look at the updated RMSE\n",
    "print('RMSE with total area:', get_kfold_rmse(house_prices_train))"
   ]
  },
  {
   "cell_type": "markdown",
   "id": "6dfa4989",
   "metadata": {},
   "source": [
    "Next, we will create a new feature representing the area of the garden. It is a difference between the total area of the property (`\"LotArea\"`) and the first floor area (`\"1stFlrSF\"`)."
   ]
  },
  {
   "cell_type": "code",
   "execution_count": 30,
   "id": "e6117568",
   "metadata": {},
   "outputs": [
    {
     "name": "stdout",
     "output_type": "stream",
     "text": [
      "RMSE with garden area: 40384.66\n"
     ]
    }
   ],
   "source": [
    "# Find the area of the garden\n",
    "house_prices_train['GardenArea'] = house_prices_train[\"LotArea\"] - house_prices_train[\"1stFlrSF\"]\n",
    "print('RMSE with garden area:', get_kfold_rmse(house_prices_train))"
   ]
  },
  {
   "cell_type": "markdown",
   "id": "0d4b26b0",
   "metadata": {},
   "source": [
    "Finally, we will create a new feature representing the total number of bathrooms in the house. It is a sum of full bathrooms (`\"FullBath\"`) and half bathrooms (`\"HalfBath\"`)."
   ]
  },
  {
   "cell_type": "code",
   "execution_count": 31,
   "id": "d889ac37",
   "metadata": {},
   "outputs": [
    {
     "name": "stdout",
     "output_type": "stream",
     "text": [
      "RMSE with number of bathrooms: 39241.12\n"
     ]
    }
   ],
   "source": [
    "# Find total number of bathrooms\n",
    "house_prices_train['TotalBath'] = house_prices_train[[\"FullBath\",\"HalfBath\"]].sum(axis=1, skipna = True)\n",
    "print('RMSE with number of bathrooms:', get_kfold_rmse(house_prices_train))"
   ]
  },
  {
   "cell_type": "markdown",
   "id": "4b8b3838",
   "metadata": {},
   "source": [
    "We've created three new features. However, in our case the RMSE has not changed significantly. The new features are not contributing, thus we can ignore them. Let's now work with the datetime features!\n",
    "\n",
    "## Date features\n",
    "\n",
    "We've built some basic features using numerical variables. Now, it's time to create features based on date and time. We will practice on a subsample from the Taxi Fare Prediction Kaggle competition data. The data represents information about the taxi rides and the goal is to predict the price for each ride.\n",
    "\n",
    "Our objective is to generate date features from the pickup datetime. Recall that it's better to create new features for train and test data simultaneously. After the features are created, split the data back into the train and test DataFrames. Here it's done using `pandas`' `isin()` method."
   ]
  },
  {
   "cell_type": "code",
   "execution_count": 32,
   "id": "701ecfd7",
   "metadata": {},
   "outputs": [],
   "source": [
    "# read train and test data\n",
    "ny_taxi_train = pd.read_csv(ny_taxi_dir + 'train_short.csv') \n",
    "ny_taxi_test = pd.read_csv(ny_taxi_dir + 'test.csv')\n",
    "\n",
    "# Concatenate train and test together\n",
    "taxi = pd.concat([ny_taxi_train, ny_taxi_test])\n",
    "\n",
    "# Convert pickup date to datetime object\n",
    "taxi['pickup_datetime'] = pd.to_datetime(taxi['pickup_datetime'])\n",
    "\n",
    "# Create a day of week feature\n",
    "taxi['dayofweek'] = taxi['pickup_datetime'].dt.dayofweek\n",
    "\n",
    "# Create an hour feature\n",
    "taxi['hour'] = taxi['pickup_datetime'].dt.hour\n",
    "\n",
    "# Split back into train and test\n",
    "new_ny_taxi_train = taxi[taxi['key'].isin(ny_taxi_train['key'])]\n",
    "new_ny_taxi_test = taxi[taxi['key'].isin(ny_taxi_test['key'])]"
   ]
  },
  {
   "cell_type": "markdown",
   "id": "aa89ead0",
   "metadata": {},
   "source": [
    "Now we know how to perform feature engineering for train and test DataFrames simultaneously. Having considered numerical and datetime features.\n",
    "\n",
    "## Label encoding\n",
    "\n",
    "Let's work on categorical variables encoding. We will again work with a subsample from the House Prices Kaggle competition. Our objective is to encode categorical features `\"RoofStyle\"` and `\"CentralAir\"` using label encoding. "
   ]
  },
  {
   "cell_type": "code",
   "execution_count": 76,
   "id": "37208566",
   "metadata": {},
   "outputs": [
    {
     "name": "stdout",
     "output_type": "stream",
     "text": [
      "  RoofStyle  RoofStyle_enc CentralAir  CentralAir_enc\n",
      "0     Gable              1          Y               1\n",
      "1     Gable              1          Y               1\n",
      "2     Gable              1          Y               1\n",
      "3     Gable              1          Y               1\n",
      "4     Gable              1          Y               1\n"
     ]
    }
   ],
   "source": [
    "# Load and concatenate train and test together\n",
    "house_prices_train = pd.read_csv(house_prices_dir + 'train.csv')\n",
    "house_prices_test = pd.read_csv(house_prices_dir + 'test.csv')\n",
    "houses = pd.concat([house_prices_train, house_prices_test])\n",
    "\n",
    "# Label encoder\n",
    "le = LabelEncoder()\n",
    "\n",
    "# Create new features\n",
    "houses['RoofStyle_enc'] = le.fit_transform(houses[\"RoofStyle\"])\n",
    "houses['CentralAir_enc'] = le.fit_transform(houses[\"CentralAir\"])\n",
    "\n",
    "# Look at new features\n",
    "print(houses[['RoofStyle', 'RoofStyle_enc', 'CentralAir', 'CentralAir_enc']].head())"
   ]
  },
  {
   "cell_type": "markdown",
   "id": "02c85afd",
   "metadata": {},
   "source": [
    "We can see that categorical variables have been label encoded. However, as we already know, label encoder is not always a good choice for categorical variables. Let's go further and apply One-Hot encoding.\n",
    "\n",
    "## One-Hot encoding\n",
    "\n",
    "The problem with label encoding is that it implicitly assumes that there is a ranking dependency between the categories. So, let's change the encoding method for the features \"RoofStyle\" and \"CentralAir\" to one-hot encoding. \n",
    "\n",
    "Recall that if we're dealing with __binary features__ (categorical features with only two categories) it is suggested to apply __label encoder only__. Our goal is to determine which of the mentioned features is not binary, and to apply one-hot encoding only to this one."
   ]
  },
  {
   "cell_type": "code",
   "execution_count": 77,
   "id": "52ed544a",
   "metadata": {},
   "outputs": [
    {
     "name": "stdout",
     "output_type": "stream",
     "text": [
      "Gable      2310\n",
      "Hip         551\n",
      "Gambrel      22\n",
      "Flat         20\n",
      "Mansard      11\n",
      "Shed          5\n",
      "Name: RoofStyle, dtype: int64 \n",
      "\n",
      "Y    2723\n",
      "N     196\n",
      "Name: CentralAir, dtype: int64\n"
     ]
    }
   ],
   "source": [
    "# Look at feature distributions\n",
    "print(houses['RoofStyle'].value_counts(), '\\n')\n",
    "print(houses['CentralAir'].value_counts())"
   ]
  },
  {
   "cell_type": "markdown",
   "id": "68bd78a8",
   "metadata": {},
   "source": [
    "As long as `\"CentralAir\"` is a binary feature, we encode it with a label encoder (0 - for one class and 1 - for another class). For the categorical feature `\"RoofStyle\"` let's use the one-hot encoder. Firstly, we will create one-hot encoded features using the `get_dummies()` method. Then they we will concatenate to the initial `houses` DataFrame."
   ]
  },
  {
   "cell_type": "code",
   "execution_count": 78,
   "id": "db371ebe",
   "metadata": {},
   "outputs": [
    {
     "data": {
      "text/html": [
       "<div>\n",
       "<style scoped>\n",
       "    .dataframe tbody tr th:only-of-type {\n",
       "        vertical-align: middle;\n",
       "    }\n",
       "\n",
       "    .dataframe tbody tr th {\n",
       "        vertical-align: top;\n",
       "    }\n",
       "\n",
       "    .dataframe thead th {\n",
       "        text-align: right;\n",
       "    }\n",
       "</style>\n",
       "<table border=\"1\" class=\"dataframe\">\n",
       "  <thead>\n",
       "    <tr style=\"text-align: right;\">\n",
       "      <th></th>\n",
       "      <th>RoofStyle</th>\n",
       "      <th>RoofStyle_enc</th>\n",
       "      <th>RoofStyle_Flat</th>\n",
       "      <th>RoofStyle_Gable</th>\n",
       "      <th>RoofStyle_Gambrel</th>\n",
       "      <th>RoofStyle_Hip</th>\n",
       "      <th>RoofStyle_Mansard</th>\n",
       "      <th>RoofStyle_Shed</th>\n",
       "    </tr>\n",
       "  </thead>\n",
       "  <tbody>\n",
       "    <tr>\n",
       "      <th>0</th>\n",
       "      <td>Gable</td>\n",
       "      <td>1</td>\n",
       "      <td>0</td>\n",
       "      <td>1</td>\n",
       "      <td>0</td>\n",
       "      <td>0</td>\n",
       "      <td>0</td>\n",
       "      <td>0</td>\n",
       "    </tr>\n",
       "    <tr>\n",
       "      <th>1</th>\n",
       "      <td>Gable</td>\n",
       "      <td>1</td>\n",
       "      <td>0</td>\n",
       "      <td>1</td>\n",
       "      <td>0</td>\n",
       "      <td>0</td>\n",
       "      <td>0</td>\n",
       "      <td>0</td>\n",
       "    </tr>\n",
       "    <tr>\n",
       "      <th>2</th>\n",
       "      <td>Gable</td>\n",
       "      <td>1</td>\n",
       "      <td>0</td>\n",
       "      <td>1</td>\n",
       "      <td>0</td>\n",
       "      <td>0</td>\n",
       "      <td>0</td>\n",
       "      <td>0</td>\n",
       "    </tr>\n",
       "  </tbody>\n",
       "</table>\n",
       "</div>"
      ],
      "text/plain": [
       "  RoofStyle  RoofStyle_enc  RoofStyle_Flat  RoofStyle_Gable  \\\n",
       "0     Gable              1               0                1   \n",
       "1     Gable              1               0                1   \n",
       "2     Gable              1               0                1   \n",
       "\n",
       "   RoofStyle_Gambrel  RoofStyle_Hip  RoofStyle_Mansard  RoofStyle_Shed  \n",
       "0                  0              0                  0               0  \n",
       "1                  0              0                  0               0  \n",
       "2                  0              0                  0               0  "
      ]
     },
     "metadata": {},
     "output_type": "display_data"
    }
   ],
   "source": [
    "# Create One-Hot encoded features\n",
    "ohe = pd.get_dummies(houses['RoofStyle'], prefix='RoofStyle')\n",
    "\n",
    "# Concatenate OHE features to houses\n",
    "houses = pd.concat([houses, ohe], axis=1)\n",
    "\n",
    "# Look at OHE features\n",
    "display(houses[[col for col in houses.columns if 'RoofStyle' in col]].head(3))"
   ]
  },
  {
   "cell_type": "markdown",
   "id": "72a2687d",
   "metadata": {},
   "source": [
    "Now we've mastered one-hot encoding as well! The one-hot encoded features look as expected. Remember to drop the initial string column, because models will not handle it automatically. OK, we're done with simple categorical encoders. Let's move to the target encoder!\n",
    "\n",
    "## Mean target encoding\n",
    "\n",
    "First of all, we will create a function that implements mean target encoding. Remember that we need to develop the two following steps:\n",
    "\n",
    "1. Calculate the mean on the train, apply to the test\n",
    "1. Split train into K folds. Calculate the out-of-fold mean for each fold, apply to this particular fold\n",
    "\n",
    "Each of these steps will be implemented in a separate function: `test_mean_target_encoding()` and `train_mean_target_encoding()`, respectively.\n",
    "\n",
    "The final function `mean_target_encoding()` takes as arguments: the train and test DataFrames, the name of the categorical column to be encoded, the name of the target column and a smoothing parameter alpha. It returns two values: a new feature for train and test DataFrames, respectively."
   ]
  },
  {
   "cell_type": "code",
   "execution_count": 36,
   "id": "815f2926",
   "metadata": {},
   "outputs": [],
   "source": [
    "def test_mean_target_encoding(train, test, target, categorical, alpha=5):\n",
    "    # Calculate global mean on the train data\n",
    "    global_mean = train[target].mean()\n",
    "    \n",
    "    # Group by the categorical feature and calculate its properties\n",
    "    train_groups = train.groupby(categorical)\n",
    "    category_sum = train_groups[target].sum()\n",
    "    category_size = train_groups.size()\n",
    "    \n",
    "    # Calculate smoothed mean target statistics\n",
    "    train_statistics = (category_sum + global_mean * alpha) / (category_size + alpha)\n",
    "    \n",
    "    # Apply statistics to the test data and fill new categories\n",
    "    test_feature = test[categorical].map(train_statistics).fillna(global_mean)\n",
    "    return test_feature.values\n",
    "\n",
    "\n",
    "def train_mean_target_encoding(train, target, categorical, alpha=5):\n",
    "    # Create 5-fold cross-validation\n",
    "    kf = KFold(n_splits=5, random_state=123, shuffle=True)\n",
    "    train_feature = pd.Series(index=train.index)\n",
    "    \n",
    "    # For each folds split\n",
    "    for train_index, test_index in kf.split(train):\n",
    "        cv_train, cv_test = train.iloc[train_index], train.iloc[test_index]\n",
    "      \n",
    "        # Calculate out-of-fold statistics and apply to cv_test\n",
    "        cv_test_feature = test_mean_target_encoding(cv_train, cv_test, target, categorical, alpha)\n",
    "        \n",
    "        # Save new feature for this particular fold\n",
    "        train_feature.iloc[test_index] = cv_test_feature       \n",
    "    return train_feature.values\n",
    "\n",
    "\n",
    "def mean_target_encoding(train, test, target, categorical, alpha=5):\n",
    "  \n",
    "    # Get the train feature\n",
    "    train_feature = train_mean_target_encoding(train, target, categorical, alpha)\n",
    "  \n",
    "    # Get the test feature\n",
    "    test_feature = test_mean_target_encoding(train, test, target, categorical, alpha)\n",
    "    \n",
    "    # Return new features to add to the model\n",
    "    return train_feature, test_feature"
   ]
  },
  {
   "cell_type": "markdown",
   "id": "16b34389",
   "metadata": {},
   "source": [
    "Now we are equipped with a function that performs mean target encoding of any categorical feature. Move on to learn how to implement mean target encoding for the K-fold cross-validation using the `mean_target_encoding()` function we've just built!\n",
    "\n",
    "## K-fold cross-validation\n",
    "\n",
    "We will work with a binary classification problem on a subsample from Kaggle playground competition, [Kobe Bryant Shot Selection](https://www.kaggle.com/c/kobe-bryant-shot-selection/data). The objective of this competition is to predict whether a famous basketball player Kobe Bryant scored a basket or missed a particular shot.\n",
    "\n",
    "The target variable `\"shot_made_flag\"` -- whether shot was scored or not. One of the features in the data is `\"game_id\"` -- a particular game where the shot was made. There are __541__ distinct games. So, we deal with a high-cardinality categorical feature. Let's encode it using a target mean!\n",
    "\n",
    "Suppose we're using 5-fold cross-validation and want to evaluate a mean target encoded feature on the local validation."
   ]
  },
  {
   "cell_type": "code",
   "execution_count": 37,
   "id": "fbf4dd60",
   "metadata": {},
   "outputs": [
    {
     "name": "stdout",
     "output_type": "stream",
     "text": [
      "(10000, 25)\n"
     ]
    },
    {
     "data": {
      "text/html": [
       "<div>\n",
       "<style scoped>\n",
       "    .dataframe tbody tr th:only-of-type {\n",
       "        vertical-align: middle;\n",
       "    }\n",
       "\n",
       "    .dataframe tbody tr th {\n",
       "        vertical-align: top;\n",
       "    }\n",
       "\n",
       "    .dataframe thead th {\n",
       "        text-align: right;\n",
       "    }\n",
       "</style>\n",
       "<table border=\"1\" class=\"dataframe\">\n",
       "  <thead>\n",
       "    <tr style=\"text-align: right;\">\n",
       "      <th></th>\n",
       "      <th>action_type</th>\n",
       "      <th>combined_shot_type</th>\n",
       "      <th>game_event_id</th>\n",
       "      <th>game_id</th>\n",
       "      <th>lat</th>\n",
       "      <th>loc_x</th>\n",
       "      <th>loc_y</th>\n",
       "      <th>lon</th>\n",
       "      <th>minutes_remaining</th>\n",
       "      <th>period</th>\n",
       "      <th>...</th>\n",
       "      <th>shot_type</th>\n",
       "      <th>shot_zone_area</th>\n",
       "      <th>shot_zone_basic</th>\n",
       "      <th>shot_zone_range</th>\n",
       "      <th>team_id</th>\n",
       "      <th>team_name</th>\n",
       "      <th>game_date</th>\n",
       "      <th>matchup</th>\n",
       "      <th>opponent</th>\n",
       "      <th>shot_id</th>\n",
       "    </tr>\n",
       "  </thead>\n",
       "  <tbody>\n",
       "    <tr>\n",
       "      <th>0</th>\n",
       "      <td>Jump Shot</td>\n",
       "      <td>Jump Shot</td>\n",
       "      <td>10</td>\n",
       "      <td>20000012</td>\n",
       "      <td>33.9723</td>\n",
       "      <td>167</td>\n",
       "      <td>72</td>\n",
       "      <td>-118.1028</td>\n",
       "      <td>10</td>\n",
       "      <td>1</td>\n",
       "      <td>...</td>\n",
       "      <td>2PT Field Goal</td>\n",
       "      <td>Right Side(R)</td>\n",
       "      <td>Mid-Range</td>\n",
       "      <td>16-24 ft.</td>\n",
       "      <td>1610612747</td>\n",
       "      <td>Los Angeles Lakers</td>\n",
       "      <td>2000-10-31</td>\n",
       "      <td>LAL @ POR</td>\n",
       "      <td>POR</td>\n",
       "      <td>1</td>\n",
       "    </tr>\n",
       "    <tr>\n",
       "      <th>1</th>\n",
       "      <td>Jump Shot</td>\n",
       "      <td>Jump Shot</td>\n",
       "      <td>12</td>\n",
       "      <td>20000012</td>\n",
       "      <td>34.0443</td>\n",
       "      <td>-157</td>\n",
       "      <td>0</td>\n",
       "      <td>-118.4268</td>\n",
       "      <td>10</td>\n",
       "      <td>1</td>\n",
       "      <td>...</td>\n",
       "      <td>2PT Field Goal</td>\n",
       "      <td>Left Side(L)</td>\n",
       "      <td>Mid-Range</td>\n",
       "      <td>8-16 ft.</td>\n",
       "      <td>1610612747</td>\n",
       "      <td>Los Angeles Lakers</td>\n",
       "      <td>2000-10-31</td>\n",
       "      <td>LAL @ POR</td>\n",
       "      <td>POR</td>\n",
       "      <td>2</td>\n",
       "    </tr>\n",
       "    <tr>\n",
       "      <th>2</th>\n",
       "      <td>Jump Shot</td>\n",
       "      <td>Jump Shot</td>\n",
       "      <td>35</td>\n",
       "      <td>20000012</td>\n",
       "      <td>33.9093</td>\n",
       "      <td>-101</td>\n",
       "      <td>135</td>\n",
       "      <td>-118.3708</td>\n",
       "      <td>7</td>\n",
       "      <td>1</td>\n",
       "      <td>...</td>\n",
       "      <td>2PT Field Goal</td>\n",
       "      <td>Left Side Center(LC)</td>\n",
       "      <td>Mid-Range</td>\n",
       "      <td>16-24 ft.</td>\n",
       "      <td>1610612747</td>\n",
       "      <td>Los Angeles Lakers</td>\n",
       "      <td>2000-10-31</td>\n",
       "      <td>LAL @ POR</td>\n",
       "      <td>POR</td>\n",
       "      <td>3</td>\n",
       "    </tr>\n",
       "    <tr>\n",
       "      <th>3</th>\n",
       "      <td>Jump Shot</td>\n",
       "      <td>Jump Shot</td>\n",
       "      <td>43</td>\n",
       "      <td>20000012</td>\n",
       "      <td>33.8693</td>\n",
       "      <td>138</td>\n",
       "      <td>175</td>\n",
       "      <td>-118.1318</td>\n",
       "      <td>6</td>\n",
       "      <td>1</td>\n",
       "      <td>...</td>\n",
       "      <td>2PT Field Goal</td>\n",
       "      <td>Right Side Center(RC)</td>\n",
       "      <td>Mid-Range</td>\n",
       "      <td>16-24 ft.</td>\n",
       "      <td>1610612747</td>\n",
       "      <td>Los Angeles Lakers</td>\n",
       "      <td>2000-10-31</td>\n",
       "      <td>LAL @ POR</td>\n",
       "      <td>POR</td>\n",
       "      <td>4</td>\n",
       "    </tr>\n",
       "    <tr>\n",
       "      <th>4</th>\n",
       "      <td>Driving Dunk Shot</td>\n",
       "      <td>Dunk</td>\n",
       "      <td>155</td>\n",
       "      <td>20000012</td>\n",
       "      <td>34.0443</td>\n",
       "      <td>0</td>\n",
       "      <td>0</td>\n",
       "      <td>-118.2698</td>\n",
       "      <td>6</td>\n",
       "      <td>2</td>\n",
       "      <td>...</td>\n",
       "      <td>2PT Field Goal</td>\n",
       "      <td>Center(C)</td>\n",
       "      <td>Restricted Area</td>\n",
       "      <td>Less Than 8 ft.</td>\n",
       "      <td>1610612747</td>\n",
       "      <td>Los Angeles Lakers</td>\n",
       "      <td>2000-10-31</td>\n",
       "      <td>LAL @ POR</td>\n",
       "      <td>POR</td>\n",
       "      <td>5</td>\n",
       "    </tr>\n",
       "  </tbody>\n",
       "</table>\n",
       "<p>5 rows × 25 columns</p>\n",
       "</div>"
      ],
      "text/plain": [
       "         action_type combined_shot_type  game_event_id   game_id      lat  \\\n",
       "0          Jump Shot          Jump Shot             10  20000012  33.9723   \n",
       "1          Jump Shot          Jump Shot             12  20000012  34.0443   \n",
       "2          Jump Shot          Jump Shot             35  20000012  33.9093   \n",
       "3          Jump Shot          Jump Shot             43  20000012  33.8693   \n",
       "4  Driving Dunk Shot               Dunk            155  20000012  34.0443   \n",
       "\n",
       "   loc_x  loc_y       lon  minutes_remaining  period  ...       shot_type  \\\n",
       "0    167     72 -118.1028                 10       1  ...  2PT Field Goal   \n",
       "1   -157      0 -118.4268                 10       1  ...  2PT Field Goal   \n",
       "2   -101    135 -118.3708                  7       1  ...  2PT Field Goal   \n",
       "3    138    175 -118.1318                  6       1  ...  2PT Field Goal   \n",
       "4      0      0 -118.2698                  6       2  ...  2PT Field Goal   \n",
       "\n",
       "          shot_zone_area  shot_zone_basic  shot_zone_range     team_id  \\\n",
       "0          Right Side(R)        Mid-Range        16-24 ft.  1610612747   \n",
       "1           Left Side(L)        Mid-Range         8-16 ft.  1610612747   \n",
       "2   Left Side Center(LC)        Mid-Range        16-24 ft.  1610612747   \n",
       "3  Right Side Center(RC)        Mid-Range        16-24 ft.  1610612747   \n",
       "4              Center(C)  Restricted Area  Less Than 8 ft.  1610612747   \n",
       "\n",
       "            team_name   game_date    matchup opponent  shot_id  \n",
       "0  Los Angeles Lakers  2000-10-31  LAL @ POR      POR        1  \n",
       "1  Los Angeles Lakers  2000-10-31  LAL @ POR      POR        2  \n",
       "2  Los Angeles Lakers  2000-10-31  LAL @ POR      POR        3  \n",
       "3  Los Angeles Lakers  2000-10-31  LAL @ POR      POR        4  \n",
       "4  Los Angeles Lakers  2000-10-31  LAL @ POR      POR        5  \n",
       "\n",
       "[5 rows x 25 columns]"
      ]
     },
     "metadata": {},
     "output_type": "display_data"
    }
   ],
   "source": [
    "# Read data \n",
    "bryant_shots_dir = 'data/kobe_bryant_shot_selection/'\n",
    "bryant_shots_data = pd.read_csv(bryant_shots_dir + 'data.csv', nrows=10000)\n",
    "print(bryant_shots_data.shape)\n",
    "display(bryant_shots_data.head())"
   ]
  },
  {
   "cell_type": "code",
   "execution_count": 38,
   "id": "a6aea209",
   "metadata": {},
   "outputs": [
    {
     "name": "stdout",
     "output_type": "stream",
     "text": [
      "       game_id  shot_made_flag  game_id_enc\n",
      "1764  20100204             NaN     0.401707\n",
      "       game_id  shot_made_flag  game_id_enc\n",
      "7998  20500251             1.0     0.513096\n"
     ]
    },
    {
     "name": "stderr",
     "output_type": "stream",
     "text": [
      "C:\\Users\\DmitriGazizulin\\AppData\\Local\\Temp\\ipykernel_9000\\3451765290.py:21: FutureWarning: The default dtype for empty Series will be 'object' instead of 'float64' in a future version. Specify a dtype explicitly to silence this warning.\n",
      "  train_feature = pd.Series(index=train.index)\n",
      "C:\\Users\\DmitriGazizulin\\AppData\\Local\\Temp\\ipykernel_9000\\2804302140.py:9: SettingWithCopyWarning: \n",
      "A value is trying to be set on a copy of a slice from a DataFrame.\n",
      "Try using .loc[row_indexer,col_indexer] = value instead\n",
      "\n",
      "See the caveats in the documentation: https://pandas.pydata.org/pandas-docs/stable/user_guide/indexing.html#returning-a-view-versus-a-copy\n",
      "  cv_train['game_id_enc'], cv_test['game_id_enc'] = mean_target_encoding(train=cv_train,\n",
      "C:\\Users\\DmitriGazizulin\\AppData\\Local\\Temp\\ipykernel_9000\\2804302140.py:9: SettingWithCopyWarning: \n",
      "A value is trying to be set on a copy of a slice from a DataFrame.\n",
      "Try using .loc[row_indexer,col_indexer] = value instead\n",
      "\n",
      "See the caveats in the documentation: https://pandas.pydata.org/pandas-docs/stable/user_guide/indexing.html#returning-a-view-versus-a-copy\n",
      "  cv_train['game_id_enc'], cv_test['game_id_enc'] = mean_target_encoding(train=cv_train,\n",
      "C:\\Users\\DmitriGazizulin\\AppData\\Local\\Temp\\ipykernel_9000\\3451765290.py:21: FutureWarning: The default dtype for empty Series will be 'object' instead of 'float64' in a future version. Specify a dtype explicitly to silence this warning.\n",
      "  train_feature = pd.Series(index=train.index)\n",
      "C:\\Users\\DmitriGazizulin\\AppData\\Local\\Temp\\ipykernel_9000\\2804302140.py:9: SettingWithCopyWarning: \n",
      "A value is trying to be set on a copy of a slice from a DataFrame.\n",
      "Try using .loc[row_indexer,col_indexer] = value instead\n",
      "\n",
      "See the caveats in the documentation: https://pandas.pydata.org/pandas-docs/stable/user_guide/indexing.html#returning-a-view-versus-a-copy\n",
      "  cv_train['game_id_enc'], cv_test['game_id_enc'] = mean_target_encoding(train=cv_train,\n",
      "C:\\Users\\DmitriGazizulin\\AppData\\Local\\Temp\\ipykernel_9000\\2804302140.py:9: SettingWithCopyWarning: \n",
      "A value is trying to be set on a copy of a slice from a DataFrame.\n",
      "Try using .loc[row_indexer,col_indexer] = value instead\n",
      "\n",
      "See the caveats in the documentation: https://pandas.pydata.org/pandas-docs/stable/user_guide/indexing.html#returning-a-view-versus-a-copy\n",
      "  cv_train['game_id_enc'], cv_test['game_id_enc'] = mean_target_encoding(train=cv_train,\n",
      "C:\\Users\\DmitriGazizulin\\AppData\\Local\\Temp\\ipykernel_9000\\3451765290.py:21: FutureWarning: The default dtype for empty Series will be 'object' instead of 'float64' in a future version. Specify a dtype explicitly to silence this warning.\n",
      "  train_feature = pd.Series(index=train.index)\n",
      "C:\\Users\\DmitriGazizulin\\AppData\\Local\\Temp\\ipykernel_9000\\2804302140.py:9: SettingWithCopyWarning: \n",
      "A value is trying to be set on a copy of a slice from a DataFrame.\n",
      "Try using .loc[row_indexer,col_indexer] = value instead\n",
      "\n",
      "See the caveats in the documentation: https://pandas.pydata.org/pandas-docs/stable/user_guide/indexing.html#returning-a-view-versus-a-copy\n",
      "  cv_train['game_id_enc'], cv_test['game_id_enc'] = mean_target_encoding(train=cv_train,\n",
      "C:\\Users\\DmitriGazizulin\\AppData\\Local\\Temp\\ipykernel_9000\\2804302140.py:9: SettingWithCopyWarning: \n",
      "A value is trying to be set on a copy of a slice from a DataFrame.\n",
      "Try using .loc[row_indexer,col_indexer] = value instead\n",
      "\n",
      "See the caveats in the documentation: https://pandas.pydata.org/pandas-docs/stable/user_guide/indexing.html#returning-a-view-versus-a-copy\n",
      "  cv_train['game_id_enc'], cv_test['game_id_enc'] = mean_target_encoding(train=cv_train,\n"
     ]
    },
    {
     "name": "stdout",
     "output_type": "stream",
     "text": [
      "       game_id  shot_made_flag  game_id_enc\n",
      "1143  20000739             0.0      0.28199\n",
      "       game_id  shot_made_flag  game_id_enc\n",
      "5804  20300926             0.0     0.306273\n",
      "      game_id  shot_made_flag  game_id_enc\n",
      "415  20000258             1.0     0.532664\n"
     ]
    },
    {
     "name": "stderr",
     "output_type": "stream",
     "text": [
      "C:\\Users\\DmitriGazizulin\\AppData\\Local\\Temp\\ipykernel_9000\\3451765290.py:21: FutureWarning: The default dtype for empty Series will be 'object' instead of 'float64' in a future version. Specify a dtype explicitly to silence this warning.\n",
      "  train_feature = pd.Series(index=train.index)\n",
      "C:\\Users\\DmitriGazizulin\\AppData\\Local\\Temp\\ipykernel_9000\\2804302140.py:9: SettingWithCopyWarning: \n",
      "A value is trying to be set on a copy of a slice from a DataFrame.\n",
      "Try using .loc[row_indexer,col_indexer] = value instead\n",
      "\n",
      "See the caveats in the documentation: https://pandas.pydata.org/pandas-docs/stable/user_guide/indexing.html#returning-a-view-versus-a-copy\n",
      "  cv_train['game_id_enc'], cv_test['game_id_enc'] = mean_target_encoding(train=cv_train,\n",
      "C:\\Users\\DmitriGazizulin\\AppData\\Local\\Temp\\ipykernel_9000\\2804302140.py:9: SettingWithCopyWarning: \n",
      "A value is trying to be set on a copy of a slice from a DataFrame.\n",
      "Try using .loc[row_indexer,col_indexer] = value instead\n",
      "\n",
      "See the caveats in the documentation: https://pandas.pydata.org/pandas-docs/stable/user_guide/indexing.html#returning-a-view-versus-a-copy\n",
      "  cv_train['game_id_enc'], cv_test['game_id_enc'] = mean_target_encoding(train=cv_train,\n",
      "C:\\Users\\DmitriGazizulin\\AppData\\Local\\Temp\\ipykernel_9000\\3451765290.py:21: FutureWarning: The default dtype for empty Series will be 'object' instead of 'float64' in a future version. Specify a dtype explicitly to silence this warning.\n",
      "  train_feature = pd.Series(index=train.index)\n",
      "C:\\Users\\DmitriGazizulin\\AppData\\Local\\Temp\\ipykernel_9000\\2804302140.py:9: SettingWithCopyWarning: \n",
      "A value is trying to be set on a copy of a slice from a DataFrame.\n",
      "Try using .loc[row_indexer,col_indexer] = value instead\n",
      "\n",
      "See the caveats in the documentation: https://pandas.pydata.org/pandas-docs/stable/user_guide/indexing.html#returning-a-view-versus-a-copy\n",
      "  cv_train['game_id_enc'], cv_test['game_id_enc'] = mean_target_encoding(train=cv_train,\n",
      "C:\\Users\\DmitriGazizulin\\AppData\\Local\\Temp\\ipykernel_9000\\2804302140.py:9: SettingWithCopyWarning: \n",
      "A value is trying to be set on a copy of a slice from a DataFrame.\n",
      "Try using .loc[row_indexer,col_indexer] = value instead\n",
      "\n",
      "See the caveats in the documentation: https://pandas.pydata.org/pandas-docs/stable/user_guide/indexing.html#returning-a-view-versus-a-copy\n",
      "  cv_train['game_id_enc'], cv_test['game_id_enc'] = mean_target_encoding(train=cv_train,\n"
     ]
    }
   ],
   "source": [
    "# Create 5-fold cross-validation\n",
    "kf = KFold(n_splits=5, random_state=123, shuffle=True)\n",
    "\n",
    "# For each folds split\n",
    "for train_index, test_index in kf.split(bryant_shots_data):\n",
    "    cv_train, cv_test = bryant_shots_data.iloc[train_index], bryant_shots_data.iloc[test_index]\n",
    "\n",
    "    # Create mean target encoded feature\n",
    "    cv_train['game_id_enc'], cv_test['game_id_enc'] = mean_target_encoding(train=cv_train,\n",
    "                                                                           test=cv_test,\n",
    "                                                                           target='shot_made_flag',\n",
    "                                                                           categorical='game_id',\n",
    "                                                                           alpha=5)\n",
    "    # Look at the encoding\n",
    "    print(cv_train[['game_id', 'shot_made_flag', 'game_id_enc']].sample(n=1))"
   ]
  },
  {
   "cell_type": "markdown",
   "id": "7e97d795",
   "metadata": {},
   "source": [
    "We could see different game encodings for each validation split in the output. The main conclusion we should make: while using local cross-validation, we need to repeat mean target encoding procedure inside each folds split separately. \n",
    "\n",
    "## Beyond binary classification\n",
    "\n",
    "Of course, binary classification is just a single special case. Target encoding could be applied to any target variable type:\n",
    "\n",
    "- For binary classification usually mean target encoding is used\n",
    "- For regression mean could be changed to median, quartiles, etc.\n",
    "- For multi-class classification with N classes we create N features with target mean for each category in one vs. all fashion\n",
    "\n",
    "The `mean_target_encoding()` could be used for any target type specified above. Let's apply it for the regression problem on the example of House Prices Kaggle competition. Our goal is to encode a categorical feature `\"RoofStyle\"` using mean target encoding. "
   ]
  },
  {
   "cell_type": "code",
   "execution_count": 39,
   "id": "f5ae45b8",
   "metadata": {},
   "outputs": [
    {
     "name": "stdout",
     "output_type": "stream",
     "text": [
      "     RoofStyle  RoofStyle_enc\n",
      "0        Gable  171565.947836\n",
      "1          Hip  217594.645131\n",
      "98     Gambrel  164152.950424\n",
      "133       Flat  188703.563431\n",
      "362    Mansard  180775.938759\n",
      "1053      Shed  188267.663242\n"
     ]
    },
    {
     "name": "stderr",
     "output_type": "stream",
     "text": [
      "C:\\Users\\DmitriGazizulin\\AppData\\Local\\Temp\\ipykernel_9000\\3451765290.py:21: FutureWarning: The default dtype for empty Series will be 'object' instead of 'float64' in a future version. Specify a dtype explicitly to silence this warning.\n",
      "  train_feature = pd.Series(index=train.index)\n"
     ]
    }
   ],
   "source": [
    "# Create mean target encoded feature\n",
    "house_prices_train['RoofStyle_enc'], house_prices_test['RoofStyle_enc'] = mean_target_encoding(train=house_prices_train,\n",
    "                                                                     test=house_prices_test,\n",
    "                                                                     target=\"SalePrice\",\n",
    "                                                                     categorical=\"RoofStyle\",\n",
    "                                                                     alpha=10)\n",
    "\n",
    "# Look at the encoding\n",
    "print(house_prices_test[['RoofStyle', 'RoofStyle_enc']].drop_duplicates())"
   ]
  },
  {
   "cell_type": "markdown",
   "id": "0aa0a22d",
   "metadata": {},
   "source": [
    "So, we observe that houses with the `Hip` roof are the most pricy, while houses with the `Gambrel` roof are the cheapest. It's exactly the goal of target encoding: we've encoded categorical feature in such a manner that there is now a correlation between category values and target variable. We're done with categorical encoders. Now it's time to talk about the missing data!\n",
    "\n",
    "## Find missing data\n",
    "\n",
    "Let's impute missing data on a real Kaggle dataset. For this purpose, we will be using a data subsample from the Kaggle \"Two sigma connect: rental listing inquiries\" competition.\n",
    "\n",
    "Before proceeding with any imputing we need to know the number of missing values for each of the features. Moreover, if the feature has missing values, we should explore the type of this feature."
   ]
  },
  {
   "cell_type": "code",
   "execution_count": 40,
   "id": "98260996",
   "metadata": {},
   "outputs": [],
   "source": [
    "# filling NaNs for this exercise\n",
    "two_sig_train.loc[two_sig_train.sample(frac=0.1).index, 'building_id'] = np.nan\n",
    "two_sig_train.loc[two_sig_train.sample(frac=0.15).index, 'price'] = np.nan"
   ]
  },
  {
   "cell_type": "code",
   "execution_count": 41,
   "id": "8100eeea",
   "metadata": {},
   "outputs": [
    {
     "name": "stdout",
     "output_type": "stream",
     "text": [
      "bathrooms            0\n",
      "bedrooms             0\n",
      "building_id        100\n",
      "created              0\n",
      "description          0\n",
      "display_address      0\n",
      "features             0\n",
      "latitude             0\n",
      "listing_id           0\n",
      "longitude            0\n",
      "manager_id           0\n",
      "photos               0\n",
      "price              150\n",
      "street_address       0\n",
      "interest_level       0\n",
      "dtype: int64\n"
     ]
    }
   ],
   "source": [
    "# Find the number of missing values in each column\n",
    "print(two_sig_train.isnull().sum())"
   ]
  },
  {
   "cell_type": "code",
   "execution_count": 42,
   "id": "9293ff07",
   "metadata": {},
   "outputs": [
    {
     "name": "stdout",
     "output_type": "stream",
     "text": [
      "                         building_id   price\n",
      "4   8579a0b0d54db803821a35a4a615e97a  2400.0\n",
      "6   b8e75fc949a6cd8225b455648a951712     NaN\n",
      "9   cd759a988b8f23924b5a2058d5ab2b49  3495.0\n",
      "10  53a5b119ba8f7b61d4e010512e0dfc85  3000.0\n",
      "15  bfb9405149bfff42a92980b594c28234     NaN\n"
     ]
    }
   ],
   "source": [
    "# Look at the columns with the missing values\n",
    "print(two_sig_train[['building_id', 'price']].head())"
   ]
  },
  {
   "cell_type": "markdown",
   "id": "82dfa4a2",
   "metadata": {},
   "source": [
    "All right, we've found out that `'building_id'` and `'price'` columns have missing values. Looking at the head of the DataFrame, we may conclude that `'price'` is a numerical feature, while `'building_id'` is a categorical feature that is encoding buildings as hashes.\n",
    "\n",
    "## Impute missing data\n",
    "\n",
    "We've found that `\"price\"` and `\"building_id\"` columns have missing values in the Rental Listing Inquiries dataset. So, before passing the data to the models we need to impute these values.\n",
    "\n",
    "Numerical feature `\"price\"` will be encoded with a mean value of non-missing prices.\n",
    "\n",
    "Imputing categorical feature `\"building_id\"` with the most frequent category is a bad idea, because it would mean that all the apartments with a missing `\"building_id\"` are located in the most popular building. The better idea is to impute it with a new category."
   ]
  },
  {
   "cell_type": "code",
   "execution_count": 43,
   "id": "23e40b5e",
   "metadata": {},
   "outputs": [
    {
     "name": "stdout",
     "output_type": "stream",
     "text": [
      "building_id    0\n",
      "price          0\n",
      "dtype: int64\n"
     ]
    }
   ],
   "source": [
    "# Create mean imputer\n",
    "mean_imputer = SimpleImputer(strategy='mean')\n",
    "\n",
    "# Price imputation\n",
    "two_sig_train[['price']] = mean_imputer.fit_transform(two_sig_train[['price']])\n",
    "\n",
    "# Create constant imputer\n",
    "constant_imputer = SimpleImputer(strategy='constant', fill_value='MISSING')\n",
    "\n",
    "# building_id imputation\n",
    "two_sig_train[['building_id']] = constant_imputer.fit_transform(two_sig_train[['building_id']])\n",
    "\n",
    "print(two_sig_train[['building_id', 'price']].isnull().sum())"
   ]
  },
  {
   "cell_type": "markdown",
   "id": "4b80002f",
   "metadata": {},
   "source": [
    "Now our data is ready to be passed to any Machine Learning model.\n",
    "\n",
    "# 4. Modeling\n",
    "\n",
    "Time to bring everything together and build some models! In this last chapter, we will build a base model before tuning some hyperparameters and improving our results with ensembles. We will then get some final tips and tricks to help us compete more efficiently.\n",
    "\n",
    "## Replicate validation score\n",
    "\n",
    "Throughout this chapter, we will work with New York City Taxi competition data. The problem is to predict the fare amount for a taxi ride in New York City. The competition metric is the root mean squared error.\n",
    "\n",
    "The first goal is to evaluate the Baseline model on the validation data. We will replicate the simplest Baseline based on the mean of `\"fare_amount\"`. "
   ]
  },
  {
   "cell_type": "code",
   "execution_count": 44,
   "id": "7e2c8ed9",
   "metadata": {},
   "outputs": [],
   "source": [
    "#  Create local validation\n",
    "local_validation_ny_taxi_train, local_validation_ny_taxi_test = train_test_split(ny_taxi_train, \n",
    "                                                                                 test_size=0.3, \n",
    "                                                                                 random_state=42)"
   ]
  },
  {
   "cell_type": "code",
   "execution_count": 45,
   "id": "22b2e0c0",
   "metadata": {},
   "outputs": [
    {
     "name": "stdout",
     "output_type": "stream",
     "text": [
      "Validation RMSE for Baseline I model: 9.810\n"
     ]
    }
   ],
   "source": [
    "# Calculate the mean fare_amount on the validation_train data\n",
    "naive_prediction = np.mean(local_validation_ny_taxi_train['fare_amount'])\n",
    "\n",
    "# Assign naive prediction to all the holdout observations\n",
    "local_validation_ny_taxi_test['pred'] = naive_prediction\n",
    "\n",
    "# Measure the local RMSE\n",
    "rmse_mean = sqrt(mean_squared_error(local_validation_ny_taxi_test['fare_amount'], \n",
    "                                    local_validation_ny_taxi_test['pred']))\n",
    "print('Validation RMSE for Baseline I model: {:.3f}'.format(rmse_mean))"
   ]
  },
  {
   "cell_type": "markdown",
   "id": "42b6d6c0",
   "metadata": {},
   "source": [
    "## Baseline based on the date\n",
    "\n",
    "To get more practice, let's build a couple more baseline models. The next baseline model is based on the grouping variables. It's clear that the ride fare could depend on the part of the day. For example, prices could be higher during the rush hours. Our goal is to build a baseline model that will assign the average `\"fare_amount\"` for the corresponding hour. "
   ]
  },
  {
   "cell_type": "code",
   "execution_count": 46,
   "id": "2671ca19",
   "metadata": {},
   "outputs": [
    {
     "name": "stdout",
     "output_type": "stream",
     "text": [
      "<class 'pandas.core.frame.DataFrame'>\n",
      "Int64Index: 140000 entries, 113288 to 121958\n",
      "Data columns (total 8 columns):\n",
      " #   Column             Non-Null Count   Dtype              \n",
      "---  ------             --------------   -----              \n",
      " 0   key                140000 non-null  object             \n",
      " 1   fare_amount        140000 non-null  float64            \n",
      " 2   pickup_datetime    140000 non-null  datetime64[ns, UTC]\n",
      " 3   pickup_longitude   140000 non-null  float64            \n",
      " 4   pickup_latitude    140000 non-null  float64            \n",
      " 5   dropoff_longitude  140000 non-null  float64            \n",
      " 6   dropoff_latitude   140000 non-null  float64            \n",
      " 7   passenger_count    140000 non-null  int64              \n",
      "dtypes: datetime64[ns, UTC](1), float64(5), int64(1), object(1)\n",
      "memory usage: 9.6+ MB\n"
     ]
    }
   ],
   "source": [
    "# Convert pickup date to datetime object\n",
    "local_validation_ny_taxi_train['pickup_datetime'] = pd.to_datetime(local_validation_ny_taxi_train['pickup_datetime'])\n",
    "local_validation_ny_taxi_test['pickup_datetime'] = pd.to_datetime(local_validation_ny_taxi_test['pickup_datetime'])\n",
    "\n",
    "# Check is types of the columns\n",
    "local_validation_ny_taxi_train.info()"
   ]
  },
  {
   "cell_type": "code",
   "execution_count": 47,
   "id": "3443fdaa",
   "metadata": {},
   "outputs": [
    {
     "data": {
      "text/plain": [
       "hour\n",
       "0     11.512535\n",
       "1     11.609068\n",
       "2     11.646396\n",
       "3     12.003251\n",
       "4     13.741648\n",
       "5     14.526188\n",
       "6     12.144416\n",
       "7     10.945939\n",
       "8     10.832683\n",
       "9     10.780053\n",
       "10    10.961344\n",
       "11    11.356686\n",
       "12    11.131416\n",
       "13    11.553612\n",
       "14    12.066149\n",
       "15    12.043811\n",
       "16    11.876399\n",
       "17    11.224306\n",
       "18    10.959636\n",
       "19    10.683493\n",
       "20    10.834299\n",
       "21    11.104655\n",
       "22    11.203855\n",
       "23    11.537998\n",
       "Name: fare_amount, dtype: float64"
      ]
     },
     "metadata": {},
     "output_type": "display_data"
    },
    {
     "name": "stdout",
     "output_type": "stream",
     "text": [
      "Validation RMSE for Baseline I model: 9.790\n"
     ]
    }
   ],
   "source": [
    "# Get pickup hour from the pickup_datetime column\n",
    "local_validation_ny_taxi_train['hour'] = local_validation_ny_taxi_train['pickup_datetime'].dt.hour\n",
    "local_validation_ny_taxi_test['hour'] = local_validation_ny_taxi_test['pickup_datetime'].dt.hour\n",
    "\n",
    "# Calculate average fare_amount grouped by pickup hour \n",
    "hour_groups = local_validation_ny_taxi_train.groupby('hour')['fare_amount'].mean()\n",
    "display(hour_groups)\n",
    "\n",
    "# Make predictions on the test set\n",
    "local_validation_ny_taxi_test['pred'] = local_validation_ny_taxi_test.hour.map(hour_groups)\n",
    "# Measure the local RMSE\n",
    "rmse_group = sqrt(mean_squared_error(local_validation_ny_taxi_test['fare_amount'], \n",
    "                                     local_validation_ny_taxi_test['pred']))\n",
    "print('Validation RMSE for Baseline II model: {:.3f}'.format(rmse_group))"
   ]
  },
  {
   "cell_type": "markdown",
   "id": "286de099",
   "metadata": {},
   "source": [
    "This results is slightly better than prediction by mean.\n",
    "\n",
    "## Baseline based on the gradient boosting\n",
    "\n",
    "Let's build a final baseline based on the Random Forest to further improve this score.\n",
    "\n",
    "The goal of this exercise is to take numeric features and train a Random Forest model without any tuning. After that, we could make test predictions and validate the result. Note that we've already got an `\"hour\"` feature which could also be used as an input to the model."
   ]
  },
  {
   "cell_type": "code",
   "execution_count": 48,
   "id": "39de108d",
   "metadata": {},
   "outputs": [
    {
     "data": {
      "text/plain": [
       "key                  0\n",
       "fare_amount          0\n",
       "pickup_datetime      0\n",
       "pickup_longitude     0\n",
       "pickup_latitude      0\n",
       "dropoff_longitude    0\n",
       "dropoff_latitude     0\n",
       "passenger_count      0\n",
       "pred                 0\n",
       "hour                 0\n",
       "dtype: int64"
      ]
     },
     "execution_count": 48,
     "metadata": {},
     "output_type": "execute_result"
    }
   ],
   "source": [
    "local_validation_ny_taxi_test.dropna(inplace=True)\n",
    "local_validation_ny_taxi_test.isnull().sum()"
   ]
  },
  {
   "cell_type": "code",
   "execution_count": 49,
   "id": "9b7e7c1d",
   "metadata": {},
   "outputs": [
    {
     "name": "stdout",
     "output_type": "stream",
     "text": [
      "Validation RMSE for Baseline I model: 4.921\n"
     ]
    }
   ],
   "source": [
    "# Select only numeric features\n",
    "features = ['pickup_longitude', 'pickup_latitude', 'dropoff_longitude',\n",
    "            'dropoff_latitude', 'passenger_count', 'hour']\n",
    "\n",
    "# Train a Random Forest model\n",
    "rf = RandomForestRegressor()\n",
    "rf.fit(local_validation_ny_taxi_train[features], local_validation_ny_taxi_train.fare_amount)\n",
    "\n",
    "# Make predictions on the test data\n",
    "local_validation_ny_taxi_test['pred'] = rf.predict(local_validation_ny_taxi_test[features])\n",
    "\n",
    "# Measure the local RMSE\n",
    "rmse_rf = sqrt(mean_squared_error(local_validation_ny_taxi_test['fare_amount'], \n",
    "                                  local_validation_ny_taxi_test['pred']))\n",
    "print('Validation RMSE for Baseline I model: {:.3f}'.format(rmse_rf))"
   ]
  },
  {
   "cell_type": "markdown",
   "id": "e0461b3d",
   "metadata": {},
   "source": [
    "This final baseline achieves the best score. So, now we know how to build fast and simple baseline models to validate our initial pipeline.\n",
    "\n",
    "## Grid search\n",
    "\n",
    "In the previous subsection we've created a baseline Gradient Boosting model. Our goal now is to find the best `max_depth` hyperparameter value for this Gradient Boosting model. This hyperparameter limits the number of nodes in each individual tree. We will be using K-fold cross-validation to measure the local performance of the model for each hyperparameter value.\n",
    "\n",
    "We will use a function `get_cv_score()`, which takes the train dataset and dictionary of the model parameters as arguments and returns the overall validation RMSE score over 3-fold cross-validation."
   ]
  },
  {
   "cell_type": "code",
   "execution_count": 50,
   "id": "7d284ccb",
   "metadata": {},
   "outputs": [],
   "source": [
    "def get_cv_score(train, params):\n",
    "    # source of the code: https://campus.datacamp.com/courses/winning-a-kaggle-competition-in-python/modeling?ex=6\n",
    "    # Create KFold object\n",
    "    kf = KFold(n_splits=3, shuffle=True, random_state=42)\n",
    "\n",
    "    rmse_scores = []\n",
    "    \n",
    "    # Loop through each split\n",
    "    for train_index, test_index in kf.split(train):\n",
    "        cv_train, cv_test = train.iloc[train_index], train.iloc[test_index]\n",
    "    \n",
    "        # Train a Gradient Boosting model\n",
    "        gb = GradientBoostingRegressor(random_state=42, **params).fit(cv_train[features], cv_train.fare_amount)\n",
    "    \n",
    "        # Make predictions on the test data\n",
    "        pred = gb.predict(cv_test[features])\n",
    "    \n",
    "        fold_score = np.sqrt(mean_squared_error(cv_test['fare_amount'], pred))\n",
    "        rmse_scores.append(fold_score)\n",
    "    \n",
    "    return np.round(np.mean(rmse_scores) + np.std(rmse_scores), 5)"
   ]
  },
  {
   "cell_type": "code",
   "execution_count": 51,
   "id": "9f941119",
   "metadata": {},
   "outputs": [
    {
     "name": "stdout",
     "output_type": "stream",
     "text": [
      "{3: 5.70553, 6: 5.35186, 9: 5.59147, 12: 6.1454, 15: 6.53273}\n"
     ]
    }
   ],
   "source": [
    "# Possible max depth values\n",
    "max_depth_grid = [3, 6, 9, 12, 15]\n",
    "results = {}\n",
    "\n",
    "# For each value in the grid\n",
    "for max_depth_candidate in max_depth_grid:\n",
    "    # Specify parameters for the model\n",
    "    params = {'max_depth': max_depth_candidate}\n",
    "\n",
    "    # Calculate validation score for a particular hyperparameter\n",
    "    validation_score = get_cv_score(local_validation_ny_taxi_train, params)\n",
    "\n",
    "    # Save the results for each max depth value\n",
    "    results[max_depth_candidate] = validation_score   \n",
    "print(results)"
   ]
  },
  {
   "cell_type": "markdown",
   "id": "aa0bdc86",
   "metadata": {},
   "source": [
    "We have a validation score for each value in the grid. It's clear that the optimal max depth value is located somewhere between 3 and 6. The next step could be to use a smaller grid, for example [3, 4, 5, 6] and repeat the same process. Moving from larger to smaller grids allows us to find the most optimal values.\n",
    "\n",
    "## 2D grid search\n",
    "\n",
    "The drawback of tuning each hyperparameter independently is a potential dependency between different hyperparameters. The better approach is to try all the possible hyperparameter combinations. However, in such cases, the grid search space is rapidly expanding. For example, if we have 2 parameters with 10 possible values, it will yield 100 experiment runs.\n",
    "\n",
    "Our goal is to find the best hyperparameter couple of `max_depth` and `subsample` for the Gradient Boosting model. `subsample` is a fraction of observations to be used for fitting the individual trees."
   ]
  },
  {
   "cell_type": "code",
   "execution_count": 52,
   "id": "05bf520d",
   "metadata": {},
   "outputs": [
    {
     "name": "stdout",
     "output_type": "stream",
     "text": [
      "{(3, 0.8): 5.69468, (3, 0.9): 5.69747, (3, 1.0): 5.70553, (5, 0.8): 5.40075, (5, 0.9): 5.40542, (5, 1.0): 5.3664, (7, 0.8): 5.31555, (7, 0.9): 5.34288, (7, 1.0): 5.31458}\n"
     ]
    }
   ],
   "source": [
    "# Hyperparameter grids\n",
    "max_depth_grid = [3, 5, 7]\n",
    "subsample_grid = [0.8, 0.9, 1.0]\n",
    "results = {}\n",
    "\n",
    "# For each couple in the grid\n",
    "for max_depth_candidate, subsample_candidate in itertools.product(max_depth_grid, subsample_grid):\n",
    "    params = {'max_depth': max_depth_candidate,\n",
    "              'subsample': subsample_candidate}\n",
    "    validation_score = get_cv_score(local_validation_ny_taxi_train, params)\n",
    "    # Save the results for each couple\n",
    "    results[(max_depth_candidate, subsample_candidate)] = validation_score   \n",
    "print(results)"
   ]
  },
  {
   "cell_type": "markdown",
   "id": "21f04300",
   "metadata": {},
   "source": [
    "We can see that tuning multiple hyperparameters simultaneously achieves better results. In the previous exercise, tuning only the `max_depth` parameter gave the best RMSE of \\\\$5.35. With `max_depth` equal to 7 and subsample equal to 0.8, the best RMSE is now $5.15. However, do not spend too much time on the hyperparameter tuning at the beginning of the competition! Another approach that almost always improves your solution is model ensembling.\n",
    "\n",
    "## Model blending\n",
    "\n",
    "We will start creating model ensembles with a blending technique.\n",
    "\n",
    "Our goal is to train 2 different models on the New York City Taxi competition data (The target variable name is `\"fare_amount\"`). Make predictions on the test data and then blend them using a simple arithmetic mean."
   ]
  },
  {
   "cell_type": "code",
   "execution_count": 53,
   "id": "bc3ec9bc",
   "metadata": {},
   "outputs": [],
   "source": [
    "# Load train and test data\n",
    "ny_taxi_train = pd.read_csv(ny_taxi_dir + 'train_short.csv') # the original file consists of more than 55 million rows (~5 GB)\n",
    "ny_taxi_test = pd.read_csv(ny_taxi_dir + 'test.csv')"
   ]
  },
  {
   "cell_type": "code",
   "execution_count": 59,
   "id": "8b23bc46",
   "metadata": {},
   "outputs": [
    {
     "name": "stdout",
     "output_type": "stream",
     "text": [
      "The train set columns: ['key', 'fare_amount', 'pickup_datetime', 'pickup_longitude', 'pickup_latitude', 'dropoff_longitude', 'dropoff_latitude', 'passenger_count', 'distance_km', 'hour']\n",
      "The test set columns: ['key', 'pickup_datetime', 'pickup_longitude', 'pickup_latitude', 'dropoff_longitude', 'dropoff_latitude', 'passenger_count', 'distance_km', 'hour']\n"
     ]
    }
   ],
   "source": [
    "# Calculate the ride distance\n",
    "ny_taxi_train['distance_km'] = dist_km(ny_taxi_train)\n",
    "ny_taxi_test['distance_km'] = dist_km(ny_taxi_test)\n",
    "\n",
    "# Convert pickup date to datetime object\n",
    "ny_taxi_train['pickup_datetime'] = pd.to_datetime(ny_taxi_train['pickup_datetime'])\n",
    "ny_taxi_test['pickup_datetime'] = pd.to_datetime(ny_taxi_test['pickup_datetime'])\n",
    "\n",
    "# Get pickup hour from the pickup_datetime column\n",
    "ny_taxi_train['hour'] = ny_taxi_train['pickup_datetime'].dt.hour\n",
    "ny_taxi_test['hour'] = ny_taxi_test['pickup_datetime'].dt.hour\n",
    "\n",
    "# remove NaN\n",
    "ny_taxi_train.dropna(inplace=True)\n",
    "ny_taxi_test.dropna(inplace=True)\n",
    "\n",
    "# features to train on\n",
    "features = ['pickup_longitude', \n",
    "            'pickup_latitude', \n",
    "            'dropoff_longitude', \n",
    "            'dropoff_latitude', \n",
    "            'passenger_count', \n",
    "            'distance_km', \n",
    "            'hour']\n",
    "# show columns of the dataset\n",
    "print('The train set columns:', ny_taxi_train.columns.to_list())\n",
    "print('The test set columns:', ny_taxi_test.columns.to_list())"
   ]
  },
  {
   "cell_type": "code",
   "execution_count": 61,
   "id": "54d312eb",
   "metadata": {},
   "outputs": [
    {
     "name": "stdout",
     "output_type": "stream",
     "text": [
      "    gb_pred  rf_pred     blend\n",
      "0  9.307821    8.872  9.089910\n",
      "1  9.643401    9.362  9.502701\n",
      "2  5.455640    4.733  5.094320\n"
     ]
    }
   ],
   "source": [
    "# Train a Gradient Boosting model\n",
    "gb = GradientBoostingRegressor().fit(ny_taxi_train[features], ny_taxi_train.fare_amount)\n",
    "\n",
    "# Train a Random Forest model\n",
    "rf = RandomForestRegressor().fit(ny_taxi_train[features], ny_taxi_train.fare_amount)\n",
    "\n",
    "# Make predictions on the test data\n",
    "ny_taxi_test['gb_pred'] = gb.predict(ny_taxi_test[features])\n",
    "ny_taxi_test['rf_pred'] = rf.predict(ny_taxi_test[features])\n",
    "\n",
    "# Find mean of model predictions\n",
    "ny_taxi_test['blend'] = (ny_taxi_test['gb_pred'] + ny_taxi_test['rf_pred']) / 2\n",
    "print(ny_taxi_test[['gb_pred', 'rf_pred', 'blend']].head(3))"
   ]
  },
  {
   "cell_type": "markdown",
   "id": "28944bf3",
   "metadata": {},
   "source": [
    "Blending allows us to get additional score improvements almost for free just by averaging multiple models predictions. Now, let's explore model stacking!\n",
    "\n",
    "## Model stacking\n",
    "\n",
    "Now it's time for stacking. To implement the stacking approach, we will follow the 6 steps:\n",
    "\n",
    "1. Split train data into two parts\n",
    "1. Train multiple models on Part 1\n",
    "1. Make predictions on Part 2\n",
    "1. Make predictions on the test data\n",
    "1. Train a new model on Part 2 using predictions as features\n",
    "1. Make predictions on the test data using the 2nd level model"
   ]
  },
  {
   "cell_type": "code",
   "execution_count": 62,
   "id": "1e120f25",
   "metadata": {},
   "outputs": [],
   "source": [
    "# Split train data into two parts\n",
    "ny_taxi_part_1, ny_taxi_part_2 = train_test_split(ny_taxi_train, test_size=0.5, random_state=123)\n",
    "\n",
    "# Train a Gradient Boosting model on Part 1\n",
    "gb = GradientBoostingRegressor().fit(ny_taxi_part_1[features], ny_taxi_part_1.fare_amount)\n",
    "\n",
    "# Train a Random Forest model on Part 1\n",
    "rf = RandomForestRegressor().fit(ny_taxi_part_1[features], ny_taxi_part_1.fare_amount)\n",
    "\n",
    "# Make predictions on the Part 2 data\n",
    "ny_taxi_part_2['gb_pred'] = gb.predict(ny_taxi_part_2[features])\n",
    "ny_taxi_part_2['rf_pred'] = rf.predict(ny_taxi_part_2[features])\n",
    "\n",
    "# Make predictions on the test data\n",
    "ny_taxi_test['gb_pred'] = gb.predict(ny_taxi_test[features])\n",
    "ny_taxi_test['rf_pred'] = rf.predict(ny_taxi_test[features])"
   ]
  },
  {
   "cell_type": "markdown",
   "id": "f81bf496",
   "metadata": {},
   "source": [
    "OK, what we've done so far in the stacking implementation:\n",
    "\n",
    "1. Split train data into two parts\n",
    "1. Train multiple models on Part 1\n",
    "1. Make predictions on Part 2\n",
    "1. Make predictions on the test data\n",
    "\n",
    "Now, our goal is to create a second level model using predictions from steps 3 and 4 as features. So, this model is trained on Part 2 data and then we can make stacking predictions on the test data."
   ]
  },
  {
   "cell_type": "code",
   "execution_count": 63,
   "id": "1b63c837",
   "metadata": {},
   "outputs": [
    {
     "name": "stdout",
     "output_type": "stream",
     "text": [
      "[0.31844257 0.67412127]\n"
     ]
    }
   ],
   "source": [
    "# Create linear regression model without the intercept\n",
    "lr = LinearRegression(fit_intercept=False)\n",
    "\n",
    "# Train 2nd level model on the Part 2 data\n",
    "lr.fit(ny_taxi_part_2[['gb_pred', 'rf_pred']], ny_taxi_part_2.fare_amount)\n",
    "\n",
    "# Make stacking predictions on the test data\n",
    "ny_taxi_test['stacking'] = lr.predict(ny_taxi_test[['gb_pred', 'rf_pred']])\n",
    "\n",
    "# Look at the model coefficients\n",
    "print(lr.coef_)"
   ]
  },
  {
   "cell_type": "markdown",
   "id": "b6a48bdf",
   "metadata": {},
   "source": [
    "Now our toolbox contains ensembling techniques! Usually, the 2nd level model is some simple model like Linear or Logistic Regressions. Also, note that we were not using intercept in the Linear Regression just to combine pure model predictions. Looking at the coefficients, it's clear that 2nd level model has more trust to the Random Forest model: 0.7 versus 0.3 for the Gradient Boosting."
   ]
  },
  {
   "cell_type": "code",
   "execution_count": null,
   "id": "8849cc56",
   "metadata": {},
   "outputs": [],
   "source": []
  }
 ],
 "metadata": {
  "kernelspec": {
   "display_name": "intro-to-kaggle-copetition",
   "language": "python",
   "name": "intro-to-kaggle-copetition"
  },
  "language_info": {
   "codemirror_mode": {
    "name": "ipython",
    "version": 3
   },
   "file_extension": ".py",
   "mimetype": "text/x-python",
   "name": "python",
   "nbconvert_exporter": "python",
   "pygments_lexer": "ipython3",
   "version": "3.8.13"
  }
 },
 "nbformat": 4,
 "nbformat_minor": 5
}
